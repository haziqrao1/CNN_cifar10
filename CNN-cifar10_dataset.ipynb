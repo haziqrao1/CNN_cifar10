{
  "nbformat": 4,
  "nbformat_minor": 0,
  "metadata": {
    "accelerator": "GPU",
    "colab": {
      "name": "DL_A2.ipynb",
      "provenance": [],
      "collapsed_sections": []
    },
    "kernelspec": {
      "display_name": "Python 3",
      "name": "python3"
    },
    "language_info": {
      "name": "python"
    }
  },
  "cells": [
    {
      "cell_type": "code",
      "metadata": {
        "id": "zD1m9CVh9ShI"
      },
      "source": [
        "from matplotlib.pyplot import imread, imshow, imsave\n",
        "from keras.datasets import cifar10"
      ],
      "execution_count": null,
      "outputs": []
    },
    {
      "cell_type": "code",
      "metadata": {
        "colab": {
          "base_uri": "https://localhost:8080/"
        },
        "id": "nPu8Wl0osAv7",
        "outputId": "006f84fa-3df3-4a90-9f6c-003efdc1d62b"
      },
      "source": [
        "(train_x,train_y),(test_x,test_y) = cifar10.load_data()"
      ],
      "execution_count": null,
      "outputs": [
        {
          "output_type": "stream",
          "text": [
            "Downloading data from https://www.cs.toronto.edu/~kriz/cifar-10-python.tar.gz\n",
            "170500096/170498071 [==============================] - 2s 0us/step\n"
          ],
          "name": "stdout"
        }
      ]
    },
    {
      "cell_type": "code",
      "metadata": {
        "colab": {
          "base_uri": "https://localhost:8080/"
        },
        "id": "WBKCIiDIsUvr",
        "outputId": "c575bba3-ef68-44eb-8bde-ab8b645bd583"
      },
      "source": [
        "print('Train X shape ',train_x.shape)\n",
        "print('Train Y shape ',train_y.shape)\n",
        "print('Test  X shape ',test_x.shape)\n",
        "print('Test  Y shape ',test_y.shape)\n"
      ],
      "execution_count": null,
      "outputs": [
        {
          "output_type": "stream",
          "text": [
            "Train X shape  (50000, 32, 32, 3)\n",
            "Train Y shape  (50000, 1)\n",
            "Test  X shape  (10000, 32, 32, 3)\n",
            "Test  Y shape  (10000, 1)\n"
          ],
          "name": "stdout"
        }
      ]
    },
    {
      "cell_type": "code",
      "metadata": {
        "colab": {
          "base_uri": "https://localhost:8080/",
          "height": 285
        },
        "id": "r-Vg2U6use6r",
        "outputId": "9dc8b873-a9dd-4e5d-848c-728f85993668"
      },
      "source": [
        "imshow(train_x[20])\n",
        "print(train_y[20])"
      ],
      "execution_count": null,
      "outputs": [
        {
          "output_type": "stream",
          "text": [
            "[4]\n"
          ],
          "name": "stdout"
        },
        {
          "output_type": "display_data",
          "data": {
            "image/png": "[encoded data removed]",
            "text/plain": [
              "<Figure size 432x288 with 1 Axes>"
            ]
          },
          "metadata": {
            "tags": []
          }
        }
      ]
    },
    {
      "cell_type": "code",
      "metadata": {
        "id": "bGkZIOUdtHi3"
      },
      "source": [
        "from keras.utils import to_categorical\n",
        "from keras.models import Sequential\n",
        "from keras.layers import Conv2D\n",
        "from keras.layers import MaxPooling2D\n",
        "from keras.layers import Dense\n",
        "from keras.layers import Flatten\n",
        "from keras.optimizers import SGD\n",
        "import tensorflow as tf"
      ],
      "execution_count": null,
      "outputs": []
    },
    {
      "cell_type": "markdown",
      "metadata": {
        "id": "9spjh4LP6EzW"
      },
      "source": [
        "Model CNN\n"
      ]
    },
    {
      "cell_type": "code",
      "metadata": {
        "id": "g6S0AqFgvkzh"
      },
      "source": [
        ""
      ],
      "execution_count": null,
      "outputs": []
    },
    {
      "cell_type": "code",
      "metadata": {
        "id": "x1i27I92hR3S"
      },
      "source": [
        "num_classes = 10"
      ],
      "execution_count": null,
      "outputs": []
    },
    {
      "cell_type": "code",
      "metadata": {
        "id": "hz0liClmeTvI"
      },
      "source": [
        "model = Sequential()\n",
        "model.add(Conv2D(32, (3,3), padding='same', kernel_regularizer=regularizers.l2(weight_decay), input_shape=(32, 32, 3)))\n",
        "model.add(Activation('relu'))\n",
        "model.add(BatchNormalization())\n",
        "\n",
        "model.add(Conv2D(32, (3,3), padding='same', kernel_regularizer=regularizers.l2(weight_decay)))\n",
        "model.add(Activation('relu'))\n",
        "model.add(BatchNormalization())\n",
        "\n",
        "model.add(MaxPooling2D(pool_size=(2,2)))\n",
        "model.add(Dropout(0.2))\n",
        " \n",
        "model.add(Conv2D(64, (3,3), padding='same', kernel_regularizer=regularizers.l2(weight_decay)))\n",
        "model.add(Activation('relu'))\n",
        "model.add(BatchNormalization())\n",
        "\n",
        "model.add(Conv2D(64, (3,3), padding='same', kernel_regularizer=regularizers.l2(weight_decay)))\n",
        "model.add(Activation('relu'))\n",
        "model.add(BatchNormalization())\n",
        "\n",
        "model.add(MaxPooling2D(pool_size=(2,2)))\n",
        "model.add(Dropout(0.3))\n",
        " \n",
        "model.add(Conv2D(128, (3,3), padding='same', kernel_regularizer=regularizers.l2(weight_decay)))\n",
        "model.add(Activation('relu'))\n",
        "model.add(BatchNormalization())\n",
        "\n",
        "model.add(Conv2D(128, (3,3), padding='same', kernel_regularizer=regularizers.l2(weight_decay)))\n",
        "model.add(Activation('relu'))\n",
        "model.add(BatchNormalization())\n",
        "\n",
        "model.add(MaxPooling2D(pool_size=(2,2)))\n",
        "model.add(Dropout(0.4))\n",
        " \n",
        "model.add(Flatten())\n",
        "model.add(Dense(num_classes, activation='softmax'))"
      ],
      "execution_count": null,
      "outputs": []
    },
    {
      "cell_type": "code",
      "metadata": {
        "colab": {
          "base_uri": "https://localhost:8080/"
        },
        "id": "rhOmXD9CwepH",
        "outputId": "75b32742-e2fb-41d1-9934-b714bf8d4b7c"
      },
      "source": [
        "model.summary()"
      ],
      "execution_count": null,
      "outputs": [
        {
          "output_type": "stream",
          "text": [
            "Model: \"sequential_2\"\n",
            "_________________________________________________________________\n",
            "Layer (type)                 Output Shape              Param #   \n",
            "=================================================================\n",
            "conv2d (Conv2D)              (None, 32, 32, 32)        896       \n",
            "_________________________________________________________________\n",
            "activation (Activation)      (None, 32, 32, 32)        0         \n",
            "_________________________________________________________________\n",
            "batch_normalization (BatchNo (None, 32, 32, 32)        128       \n",
            "_________________________________________________________________\n",
            "conv2d_1 (Conv2D)            (None, 32, 32, 32)        9248      \n",
            "_________________________________________________________________\n",
            "activation_1 (Activation)    (None, 32, 32, 32)        0         \n",
            "_________________________________________________________________\n",
            "batch_normalization_1 (Batch (None, 32, 32, 32)        128       \n",
            "_________________________________________________________________\n",
            "max_pooling2d (MaxPooling2D) (None, 16, 16, 32)        0         \n",
            "_________________________________________________________________\n",
            "dropout (Dropout)            (None, 16, 16, 32)        0         \n",
            "_________________________________________________________________\n",
            "conv2d_2 (Conv2D)            (None, 16, 16, 64)        18496     \n",
            "_________________________________________________________________\n",
            "activation_2 (Activation)    (None, 16, 16, 64)        0         \n",
            "_________________________________________________________________\n",
            "batch_normalization_2 (Batch (None, 16, 16, 64)        256       \n",
            "_________________________________________________________________\n",
            "conv2d_3 (Conv2D)            (None, 16, 16, 64)        36928     \n",
            "_________________________________________________________________\n",
            "activation_3 (Activation)    (None, 16, 16, 64)        0         \n",
            "_________________________________________________________________\n",
            "batch_normalization_3 (Batch (None, 16, 16, 64)        256       \n",
            "_________________________________________________________________\n",
            "max_pooling2d_1 (MaxPooling2 (None, 8, 8, 64)          0         \n",
            "_________________________________________________________________\n",
            "dropout_1 (Dropout)          (None, 8, 8, 64)          0         \n",
            "_________________________________________________________________\n",
            "conv2d_4 (Conv2D)            (None, 8, 8, 128)         73856     \n",
            "_________________________________________________________________\n",
            "activation_4 (Activation)    (None, 8, 8, 128)         0         \n",
            "_________________________________________________________________\n",
            "batch_normalization_4 (Batch (None, 8, 8, 128)         512       \n",
            "_________________________________________________________________\n",
            "conv2d_5 (Conv2D)            (None, 8, 8, 128)         147584    \n",
            "_________________________________________________________________\n",
            "activation_5 (Activation)    (None, 8, 8, 128)         0         \n",
            "_________________________________________________________________\n",
            "batch_normalization_5 (Batch (None, 8, 8, 128)         512       \n",
            "_________________________________________________________________\n",
            "max_pooling2d_2 (MaxPooling2 (None, 4, 4, 128)         0         \n",
            "_________________________________________________________________\n",
            "dropout_2 (Dropout)          (None, 4, 4, 128)         0         \n",
            "_________________________________________________________________\n",
            "flatten (Flatten)            (None, 2048)              0         \n",
            "_________________________________________________________________\n",
            "dense (Dense)                (None, 10)                20490     \n",
            "=================================================================\n",
            "Total params: 309,290\n",
            "Trainable params: 308,394\n",
            "Non-trainable params: 896\n",
            "_________________________________________________________________\n"
          ],
          "name": "stdout"
        }
      ]
    },
    {
      "cell_type": "code",
      "metadata": {
        "colab": {
          "base_uri": "https://localhost:8080/"
        },
        "id": "FuT0UmVc_ZfP",
        "outputId": "a52d9861-8989-43e2-a506-dccccdd99a95"
      },
      "source": [
        "model.compile(optimizer='adam',\n",
        "              loss=tf.keras.losses.SparseCategoricalCrossentropy(from_logits=True),\n",
        "              metrics=['accuracy'])\n",
        "\n",
        "history = model.fit(train_x, train_y, epochs=10, \n",
        "                    validation_data=(test_x, test_y))\n"
      ],
      "execution_count": null,
      "outputs": [
        {
          "output_type": "stream",
          "text": [
            "Epoch 1/10\n",
            "1563/1563 [==============================] - 44s 7ms/step - loss: 2.2801 - accuracy: 0.3893 - val_loss: 1.4174 - val_accuracy: 0.5683\n",
            "Epoch 2/10\n",
            "1563/1563 [==============================] - 10s 6ms/step - loss: 1.2542 - accuracy: 0.6120 - val_loss: 0.9379 - val_accuracy: 0.7042\n",
            "Epoch 3/10\n",
            "1563/1563 [==============================] - 10s 6ms/step - loss: 0.9504 - accuracy: 0.6984 - val_loss: 0.9232 - val_accuracy: 0.7156\n",
            "Epoch 4/10\n",
            "1563/1563 [==============================] - 10s 6ms/step - loss: 0.8360 - accuracy: 0.7395 - val_loss: 0.8616 - val_accuracy: 0.7321\n",
            "Epoch 5/10\n",
            "1563/1563 [==============================] - 10s 6ms/step - loss: 0.7623 - accuracy: 0.7675 - val_loss: 0.8262 - val_accuracy: 0.7591\n",
            "Epoch 6/10\n",
            "1563/1563 [==============================] - 10s 6ms/step - loss: 0.7121 - accuracy: 0.7903 - val_loss: 0.8704 - val_accuracy: 0.7482\n",
            "Epoch 7/10\n",
            "1563/1563 [==============================] - 10s 6ms/step - loss: 0.6899 - accuracy: 0.8066 - val_loss: 0.7336 - val_accuracy: 0.7950\n",
            "Epoch 8/10\n",
            "1563/1563 [==============================] - 10s 6ms/step - loss: 0.6671 - accuracy: 0.8209 - val_loss: 0.7170 - val_accuracy: 0.8120\n",
            "Epoch 9/10\n",
            "1563/1563 [==============================] - 10s 6ms/step - loss: 0.6417 - accuracy: 0.8312 - val_loss: 0.7449 - val_accuracy: 0.8081\n",
            "Epoch 10/10\n",
            "1563/1563 [==============================] - 10s 7ms/step - loss: 0.6343 - accuracy: 0.8384 - val_loss: 0.7209 - val_accuracy: 0.8161\n"
          ],
          "name": "stdout"
        }
      ]
    },
    {
      "cell_type": "code",
      "metadata": {
        "id": "G5yPzqmjBNfw"
      },
      "source": [
        "import keras\n",
        "from keras.models import Sequential\n",
        "from keras.utils import np_utils\n",
        "from keras.preprocessing.image import ImageDataGenerator\n",
        "from keras.layers import Dense, Activation, Flatten, Dropout, BatchNormalization\n",
        "from keras.layers import Conv2D, MaxPooling2D\n",
        "from keras.datasets import cifar10\n",
        "from keras import regularizers\n",
        "from keras.callbacks import LearningRateScheduler\n",
        "import numpy as np"
      ],
      "execution_count": null,
      "outputs": []
    },
    {
      "cell_type": "code",
      "metadata": {
        "id": "KOVhdilt5mVH"
      },
      "source": [
        "def lr_schedule(epoch):\n",
        "    lrate = 0.001\n",
        "    if epoch > 75:\n",
        "        lrate = 0.0005\n",
        "    if epoch > 100:\n",
        "        lrate = 0.0003\n",
        "    return lrate\n",
        "    "
      ],
      "execution_count": null,
      "outputs": []
    },
    {
      "cell_type": "code",
      "metadata": {
        "id": "eBLh5DOl9JZF"
      },
      "source": [
        "(x_train, y_train), (x_test, y_test) = cifar10.load_data()\n",
        "x_train = x_train.astype('float32')\n",
        "x_test = x_test.astype('float32')"
      ],
      "execution_count": null,
      "outputs": []
    },
    {
      "cell_type": "code",
      "metadata": {
        "id": "S5fyN0zEQ6Zl"
      },
      "source": [
        "#z-score\n",
        "mean = np.mean(x_train,axis=(0,1,2,3))\n",
        "std = np.std(x_train,axis=(0,1,2,3))\n",
        "x_train = (x_train-mean)/(std+1e-7)\n",
        "x_test = (x_test-mean)/(std+1e-7)"
      ],
      "execution_count": null,
      "outputs": []
    },
    {
      "cell_type": "code",
      "metadata": {
        "id": "ITJAmn_CQqRH"
      },
      "source": [
        "\n",
        "num_classes = 10\n",
        "y_train = np_utils.to_categorical(y_train,num_classes)\n",
        "y_test = np_utils.to_categorical(y_test,num_classes)\n",
        " "
      ],
      "execution_count": null,
      "outputs": []
    },
    {
      "cell_type": "code",
      "metadata": {
        "id": "-elhAef7Qyjc"
      },
      "source": [
        "weight_decay = 1e-4"
      ],
      "execution_count": null,
      "outputs": []
    },
    {
      "cell_type": "code",
      "metadata": {
        "id": "eXH2lxKYQ_2d"
      },
      "source": [
        "model = Sequential()\n",
        "model.add(Conv2D(32, (3,3), padding='same', kernel_regularizer=regularizers.l2(weight_decay), input_shape=x_train.shape[1:]))\n",
        "model.add(Activation('relu'))\n",
        "model.add(BatchNormalization())\n",
        "\n",
        "model.add(Conv2D(32, (3,3), padding='same', kernel_regularizer=regularizers.l2(weight_decay)))\n",
        "model.add(Activation('relu'))\n",
        "model.add(BatchNormalization())\n",
        "\n",
        "model.add(MaxPooling2D(pool_size=(2,2)))\n",
        "model.add(Dropout(0.2))\n",
        " \n",
        "model.add(Conv2D(64, (3,3), padding='same', kernel_regularizer=regularizers.l2(weight_decay)))\n",
        "model.add(Activation('relu'))\n",
        "model.add(BatchNormalization())\n",
        "\n",
        "model.add(Conv2D(64, (3,3), padding='same', kernel_regularizer=regularizers.l2(weight_decay)))\n",
        "model.add(Activation('relu'))\n",
        "model.add(BatchNormalization())\n",
        "\n",
        "model.add(MaxPooling2D(pool_size=(2,2)))\n",
        "model.add(Dropout(0.3))\n",
        " \n",
        "model.add(Conv2D(128, (3,3), padding='same', kernel_regularizer=regularizers.l2(weight_decay)))\n",
        "model.add(Activation('relu'))\n",
        "model.add(BatchNormalization())\n",
        "\n",
        "model.add(Conv2D(128, (3,3), padding='same', kernel_regularizer=regularizers.l2(weight_decay)))\n",
        "model.add(Activation('relu'))\n",
        "model.add(BatchNormalization())\n",
        "\n",
        "model.add(MaxPooling2D(pool_size=(2,2)))\n",
        "model.add(Dropout(0.4))\n",
        " \n",
        "model.add(Flatten())\n",
        "model.add(Dense(num_classes, activation='softmax'))"
      ],
      "execution_count": null,
      "outputs": []
    },
    {
      "cell_type": "code",
      "metadata": {
        "colab": {
          "base_uri": "https://localhost:8080/"
        },
        "id": "ToW83CX2RGYX",
        "outputId": "7c78fb90-1dc0-43ca-e74e-7c743b4c41b1"
      },
      "source": [
        "model.summary()"
      ],
      "execution_count": null,
      "outputs": [
        {
          "output_type": "stream",
          "text": [
            "Model: \"sequential_4\"\n",
            "_________________________________________________________________\n",
            "Layer (type)                 Output Shape              Param #   \n",
            "=================================================================\n",
            "conv2d_24 (Conv2D)           (None, 32, 32, 32)        896       \n",
            "_________________________________________________________________\n",
            "activation_24 (Activation)   (None, 32, 32, 32)        0         \n",
            "_________________________________________________________________\n",
            "batch_normalization_24 (Batc (None, 32, 32, 32)        128       \n",
            "_________________________________________________________________\n",
            "conv2d_25 (Conv2D)           (None, 32, 32, 32)        9248      \n",
            "_________________________________________________________________\n",
            "activation_25 (Activation)   (None, 32, 32, 32)        0         \n",
            "_________________________________________________________________\n",
            "batch_normalization_25 (Batc (None, 32, 32, 32)        128       \n",
            "_________________________________________________________________\n",
            "max_pooling2d_12 (MaxPooling (None, 16, 16, 32)        0         \n",
            "_________________________________________________________________\n",
            "dropout_12 (Dropout)         (None, 16, 16, 32)        0         \n",
            "_________________________________________________________________\n",
            "conv2d_26 (Conv2D)           (None, 16, 16, 64)        18496     \n",
            "_________________________________________________________________\n",
            "activation_26 (Activation)   (None, 16, 16, 64)        0         \n",
            "_________________________________________________________________\n",
            "batch_normalization_26 (Batc (None, 16, 16, 64)        256       \n",
            "_________________________________________________________________\n",
            "conv2d_27 (Conv2D)           (None, 16, 16, 64)        36928     \n",
            "_________________________________________________________________\n",
            "activation_27 (Activation)   (None, 16, 16, 64)        0         \n",
            "_________________________________________________________________\n",
            "batch_normalization_27 (Batc (None, 16, 16, 64)        256       \n",
            "_________________________________________________________________\n",
            "max_pooling2d_13 (MaxPooling (None, 8, 8, 64)          0         \n",
            "_________________________________________________________________\n",
            "dropout_13 (Dropout)         (None, 8, 8, 64)          0         \n",
            "_________________________________________________________________\n",
            "conv2d_28 (Conv2D)           (None, 8, 8, 128)         73856     \n",
            "_________________________________________________________________\n",
            "activation_28 (Activation)   (None, 8, 8, 128)         0         \n",
            "_________________________________________________________________\n",
            "batch_normalization_28 (Batc (None, 8, 8, 128)         512       \n",
            "_________________________________________________________________\n",
            "conv2d_29 (Conv2D)           (None, 8, 8, 128)         147584    \n",
            "_________________________________________________________________\n",
            "activation_29 (Activation)   (None, 8, 8, 128)         0         \n",
            "_________________________________________________________________\n",
            "batch_normalization_29 (Batc (None, 8, 8, 128)         512       \n",
            "_________________________________________________________________\n",
            "max_pooling2d_14 (MaxPooling (None, 4, 4, 128)         0         \n",
            "_________________________________________________________________\n",
            "dropout_14 (Dropout)         (None, 4, 4, 128)         0         \n",
            "_________________________________________________________________\n",
            "flatten_4 (Flatten)          (None, 2048)              0         \n",
            "_________________________________________________________________\n",
            "dense_4 (Dense)              (None, 10)                20490     \n",
            "=================================================================\n",
            "Total params: 309,290\n",
            "Trainable params: 308,394\n",
            "Non-trainable params: 896\n",
            "_________________________________________________________________\n"
          ],
          "name": "stdout"
        }
      ]
    },
    {
      "cell_type": "code",
      "metadata": {
        "id": "yDPAAaLeRgZe"
      },
      "source": [
        "#data augmentation\n",
        "datagen = ImageDataGenerator(\n",
        "    rotation_range=15,\n",
        "    width_shift_range=0.2,\n",
        "    height_shift_range=0.2,\n",
        "    horizontal_flip=True,\n",
        "    )\n"
      ],
      "execution_count": null,
      "outputs": []
    },
    {
      "cell_type": "code",
      "metadata": {
        "id": "qKxWZ1U6Rogr"
      },
      "source": [
        "datagen.fit(x_train)"
      ],
      "execution_count": null,
      "outputs": []
    },
    {
      "cell_type": "code",
      "metadata": {
        "id": "Um6tBlY0SCOb"
      },
      "source": [
        "#training\n",
        "batch_size = 64"
      ],
      "execution_count": null,
      "outputs": []
    },
    {
      "cell_type": "code",
      "metadata": {
        "colab": {
          "base_uri": "https://localhost:8080/"
        },
        "id": "dJJRqhE1RsTi",
        "outputId": "7e5b7e27-a9fa-4620-fd2e-ca906043692e"
      },
      "source": [
        "opt_rms = keras.optimizers.RMSprop(lr=0.001,decay=1e-6)\n",
        "model.compile(loss='categorical_crossentropy', optimizer=opt_rms, metrics=['accuracy'])\n",
        "model.fit_generator(datagen.flow(x_train, y_train, batch_size=batch_size),\\\n",
        "                    steps_per_epoch=x_train.shape[0] // batch_size,epochs=125,\\\n",
        "                    verbose=1,validation_data=(x_test,y_test),callbacks=[LearningRateScheduler(lr_schedule)])\n",
        "model.save_weights('model.h5') "
      ],
      "execution_count": null,
      "outputs": [
        {
          "output_type": "stream",
          "text": [
            "/usr/local/lib/python3.7/dist-packages/tensorflow/python/keras/engine/training.py:1844: UserWarning: `Model.fit_generator` is deprecated and will be removed in a future version. Please use `Model.fit`, which supports generators.\n",
            "  warnings.warn('`Model.fit_generator` is deprecated and '\n"
          ],
          "name": "stderr"
        },
        {
          "output_type": "stream",
          "text": [
            "Epoch 1/125\n",
            "781/781 [==============================] - 28s 35ms/step - loss: 2.3956 - accuracy: 0.3442 - val_loss: 1.3505 - val_accuracy: 0.5887\n",
            "Epoch 2/125\n",
            "781/781 [==============================] - 26s 34ms/step - loss: 1.3836 - accuracy: 0.5692 - val_loss: 1.2127 - val_accuracy: 0.6459\n",
            "Epoch 3/125\n",
            "781/781 [==============================] - 26s 34ms/step - loss: 1.1566 - accuracy: 0.6389 - val_loss: 1.0433 - val_accuracy: 0.6852\n",
            "Epoch 4/125\n",
            "781/781 [==============================] - 27s 34ms/step - loss: 0.9937 - accuracy: 0.6874 - val_loss: 0.9452 - val_accuracy: 0.7231\n",
            "Epoch 5/125\n",
            "781/781 [==============================] - 27s 34ms/step - loss: 0.9333 - accuracy: 0.7148 - val_loss: 0.8405 - val_accuracy: 0.7528\n",
            "Epoch 6/125\n",
            "781/781 [==============================] - 27s 34ms/step - loss: 0.8848 - accuracy: 0.7289 - val_loss: 0.8002 - val_accuracy: 0.7651\n",
            "Epoch 7/125\n",
            "781/781 [==============================] - 27s 34ms/step - loss: 0.8367 - accuracy: 0.7461 - val_loss: 0.7019 - val_accuracy: 0.7961\n",
            "Epoch 8/125\n",
            "781/781 [==============================] - 26s 34ms/step - loss: 0.7991 - accuracy: 0.7616 - val_loss: 0.7376 - val_accuracy: 0.7889\n",
            "Epoch 9/125\n",
            "781/781 [==============================] - 26s 34ms/step - loss: 0.7757 - accuracy: 0.7714 - val_loss: 0.7183 - val_accuracy: 0.8020\n",
            "Epoch 10/125\n",
            "781/781 [==============================] - 27s 34ms/step - loss: 0.7559 - accuracy: 0.7802 - val_loss: 0.7189 - val_accuracy: 0.7969\n",
            "Epoch 11/125\n",
            "781/781 [==============================] - 26s 34ms/step - loss: 0.7369 - accuracy: 0.7845 - val_loss: 0.6631 - val_accuracy: 0.8206\n",
            "Epoch 12/125\n",
            "781/781 [==============================] - 27s 34ms/step - loss: 0.7321 - accuracy: 0.7864 - val_loss: 0.6885 - val_accuracy: 0.8122\n",
            "Epoch 13/125\n",
            "781/781 [==============================] - 27s 34ms/step - loss: 0.7113 - accuracy: 0.7973 - val_loss: 0.6885 - val_accuracy: 0.8148\n",
            "Epoch 14/125\n",
            "781/781 [==============================] - 26s 34ms/step - loss: 0.7058 - accuracy: 0.8025 - val_loss: 0.6831 - val_accuracy: 0.8182\n",
            "Epoch 15/125\n",
            "781/781 [==============================] - 27s 34ms/step - loss: 0.6811 - accuracy: 0.8071 - val_loss: 0.6903 - val_accuracy: 0.8165\n",
            "Epoch 16/125\n",
            "781/781 [==============================] - 27s 34ms/step - loss: 0.6843 - accuracy: 0.8108 - val_loss: 0.6546 - val_accuracy: 0.8259\n",
            "Epoch 17/125\n",
            "781/781 [==============================] - 26s 34ms/step - loss: 0.6825 - accuracy: 0.8099 - val_loss: 0.6235 - val_accuracy: 0.8372\n",
            "Epoch 18/125\n",
            "781/781 [==============================] - 27s 34ms/step - loss: 0.6663 - accuracy: 0.8127 - val_loss: 0.6887 - val_accuracy: 0.8203\n",
            "Epoch 19/125\n",
            "781/781 [==============================] - 27s 34ms/step - loss: 0.6607 - accuracy: 0.8171 - val_loss: 0.6654 - val_accuracy: 0.8241\n",
            "Epoch 20/125\n",
            "781/781 [==============================] - 26s 34ms/step - loss: 0.6543 - accuracy: 0.8220 - val_loss: 0.6626 - val_accuracy: 0.8218\n",
            "Epoch 21/125\n",
            "781/781 [==============================] - 26s 34ms/step - loss: 0.6457 - accuracy: 0.8246 - val_loss: 0.6323 - val_accuracy: 0.8334\n",
            "Epoch 22/125\n",
            "781/781 [==============================] - 27s 34ms/step - loss: 0.6455 - accuracy: 0.8252 - val_loss: 0.6577 - val_accuracy: 0.8320\n",
            "Epoch 23/125\n",
            "781/781 [==============================] - 26s 34ms/step - loss: 0.6428 - accuracy: 0.8259 - val_loss: 0.6603 - val_accuracy: 0.8281\n",
            "Epoch 24/125\n",
            "781/781 [==============================] - 27s 34ms/step - loss: 0.6462 - accuracy: 0.8271 - val_loss: 0.6307 - val_accuracy: 0.8380\n",
            "Epoch 25/125\n",
            "781/781 [==============================] - 27s 34ms/step - loss: 0.6336 - accuracy: 0.8326 - val_loss: 0.6341 - val_accuracy: 0.8348\n",
            "Epoch 26/125\n",
            "781/781 [==============================] - 27s 34ms/step - loss: 0.6334 - accuracy: 0.8306 - val_loss: 0.5696 - val_accuracy: 0.8568\n",
            "Epoch 27/125\n",
            "781/781 [==============================] - 27s 34ms/step - loss: 0.6244 - accuracy: 0.8344 - val_loss: 0.5728 - val_accuracy: 0.8564\n",
            "Epoch 28/125\n",
            "781/781 [==============================] - 27s 34ms/step - loss: 0.6201 - accuracy: 0.8383 - val_loss: 0.6118 - val_accuracy: 0.8453\n",
            "Epoch 29/125\n",
            "781/781 [==============================] - 27s 34ms/step - loss: 0.6231 - accuracy: 0.8346 - val_loss: 0.6549 - val_accuracy: 0.8327\n",
            "Epoch 30/125\n",
            "781/781 [==============================] - 26s 34ms/step - loss: 0.6219 - accuracy: 0.8342 - val_loss: 0.6224 - val_accuracy: 0.8434\n",
            "Epoch 31/125\n",
            "781/781 [==============================] - 26s 34ms/step - loss: 0.6241 - accuracy: 0.8361 - val_loss: 0.6020 - val_accuracy: 0.8516\n",
            "Epoch 32/125\n",
            "781/781 [==============================] - 26s 34ms/step - loss: 0.6214 - accuracy: 0.8389 - val_loss: 0.6091 - val_accuracy: 0.8509\n",
            "Epoch 33/125\n",
            "781/781 [==============================] - 26s 34ms/step - loss: 0.6197 - accuracy: 0.8369 - val_loss: 0.6248 - val_accuracy: 0.8411\n",
            "Epoch 34/125\n",
            "781/781 [==============================] - 27s 34ms/step - loss: 0.6060 - accuracy: 0.8421 - val_loss: 0.6056 - val_accuracy: 0.8488\n",
            "Epoch 35/125\n",
            "781/781 [==============================] - 26s 34ms/step - loss: 0.6137 - accuracy: 0.8403 - val_loss: 0.5937 - val_accuracy: 0.8536\n",
            "Epoch 36/125\n",
            "781/781 [==============================] - 27s 34ms/step - loss: 0.6140 - accuracy: 0.8406 - val_loss: 0.6296 - val_accuracy: 0.8435\n",
            "Epoch 37/125\n",
            "781/781 [==============================] - 26s 34ms/step - loss: 0.6084 - accuracy: 0.8441 - val_loss: 0.7465 - val_accuracy: 0.8119\n",
            "Epoch 38/125\n",
            "781/781 [==============================] - 27s 34ms/step - loss: 0.6018 - accuracy: 0.8442 - val_loss: 0.6427 - val_accuracy: 0.8405\n",
            "Epoch 39/125\n",
            "781/781 [==============================] - 26s 34ms/step - loss: 0.5987 - accuracy: 0.8458 - val_loss: 0.6134 - val_accuracy: 0.8509\n",
            "Epoch 40/125\n",
            "781/781 [==============================] - 26s 34ms/step - loss: 0.6026 - accuracy: 0.8451 - val_loss: 0.6553 - val_accuracy: 0.8355\n",
            "Epoch 41/125\n",
            "781/781 [==============================] - 27s 34ms/step - loss: 0.6026 - accuracy: 0.8459 - val_loss: 0.6157 - val_accuracy: 0.8448\n",
            "Epoch 42/125\n",
            "781/781 [==============================] - 27s 34ms/step - loss: 0.6069 - accuracy: 0.8410 - val_loss: 0.7014 - val_accuracy: 0.8237\n",
            "Epoch 43/125\n",
            "781/781 [==============================] - 27s 34ms/step - loss: 0.6062 - accuracy: 0.8460 - val_loss: 0.6311 - val_accuracy: 0.8399\n",
            "Epoch 44/125\n",
            "781/781 [==============================] - 27s 34ms/step - loss: 0.6080 - accuracy: 0.8440 - val_loss: 0.5770 - val_accuracy: 0.8582\n",
            "Epoch 45/125\n",
            "781/781 [==============================] - 26s 34ms/step - loss: 0.5974 - accuracy: 0.8460 - val_loss: 0.5938 - val_accuracy: 0.8542\n",
            "Epoch 46/125\n",
            "781/781 [==============================] - 26s 34ms/step - loss: 0.5905 - accuracy: 0.8498 - val_loss: 0.6290 - val_accuracy: 0.8470\n",
            "Epoch 47/125\n",
            "781/781 [==============================] - 27s 34ms/step - loss: 0.5983 - accuracy: 0.8490 - val_loss: 0.5799 - val_accuracy: 0.8596\n",
            "Epoch 48/125\n",
            "781/781 [==============================] - 26s 34ms/step - loss: 0.5910 - accuracy: 0.8486 - val_loss: 0.5876 - val_accuracy: 0.8589\n",
            "Epoch 49/125\n",
            "781/781 [==============================] - 26s 34ms/step - loss: 0.5942 - accuracy: 0.8467 - val_loss: 0.6322 - val_accuracy: 0.8489\n",
            "Epoch 50/125\n",
            "781/781 [==============================] - 27s 34ms/step - loss: 0.5862 - accuracy: 0.8532 - val_loss: 0.6442 - val_accuracy: 0.8424\n",
            "Epoch 51/125\n",
            "781/781 [==============================] - 26s 34ms/step - loss: 0.5886 - accuracy: 0.8494 - val_loss: 0.6194 - val_accuracy: 0.8429\n",
            "Epoch 52/125\n",
            "781/781 [==============================] - 27s 34ms/step - loss: 0.5903 - accuracy: 0.8511 - val_loss: 0.6193 - val_accuracy: 0.8525\n",
            "Epoch 53/125\n",
            "781/781 [==============================] - 26s 34ms/step - loss: 0.5842 - accuracy: 0.8536 - val_loss: 0.6159 - val_accuracy: 0.8487\n",
            "Epoch 54/125\n",
            "781/781 [==============================] - 27s 34ms/step - loss: 0.5845 - accuracy: 0.8504 - val_loss: 0.5993 - val_accuracy: 0.8550\n",
            "Epoch 55/125\n",
            "781/781 [==============================] - 26s 34ms/step - loss: 0.5874 - accuracy: 0.8513 - val_loss: 0.6159 - val_accuracy: 0.8491\n",
            "Epoch 56/125\n",
            "781/781 [==============================] - 27s 34ms/step - loss: 0.5873 - accuracy: 0.8509 - val_loss: 0.5694 - val_accuracy: 0.8638\n",
            "Epoch 57/125\n",
            "781/781 [==============================] - 26s 34ms/step - loss: 0.5859 - accuracy: 0.8492 - val_loss: 0.6142 - val_accuracy: 0.8516\n",
            "Epoch 58/125\n",
            "781/781 [==============================] - 27s 34ms/step - loss: 0.5944 - accuracy: 0.8499 - val_loss: 0.5932 - val_accuracy: 0.8576\n",
            "Epoch 59/125\n",
            "781/781 [==============================] - 27s 34ms/step - loss: 0.5819 - accuracy: 0.8534 - val_loss: 0.6118 - val_accuracy: 0.8458\n",
            "Epoch 60/125\n",
            "781/781 [==============================] - 27s 34ms/step - loss: 0.5870 - accuracy: 0.8518 - val_loss: 0.6104 - val_accuracy: 0.8539\n",
            "Epoch 61/125\n",
            "781/781 [==============================] - 27s 34ms/step - loss: 0.5825 - accuracy: 0.8535 - val_loss: 0.5827 - val_accuracy: 0.8584\n",
            "Epoch 62/125\n",
            "781/781 [==============================] - 27s 34ms/step - loss: 0.5801 - accuracy: 0.8545 - val_loss: 0.5630 - val_accuracy: 0.8647\n",
            "Epoch 63/125\n",
            "781/781 [==============================] - 27s 34ms/step - loss: 0.5828 - accuracy: 0.8547 - val_loss: 0.6302 - val_accuracy: 0.8445\n",
            "Epoch 64/125\n",
            "781/781 [==============================] - 26s 34ms/step - loss: 0.5849 - accuracy: 0.8523 - val_loss: 0.6341 - val_accuracy: 0.8500\n",
            "Epoch 65/125\n",
            "781/781 [==============================] - 27s 34ms/step - loss: 0.5787 - accuracy: 0.8563 - val_loss: 0.6778 - val_accuracy: 0.8333\n",
            "Epoch 66/125\n",
            "781/781 [==============================] - 27s 34ms/step - loss: 0.5721 - accuracy: 0.8561 - val_loss: 0.6005 - val_accuracy: 0.8598\n",
            "Epoch 67/125\n",
            "781/781 [==============================] - 27s 34ms/step - loss: 0.5801 - accuracy: 0.8557 - val_loss: 0.6289 - val_accuracy: 0.8484\n",
            "Epoch 68/125\n",
            "781/781 [==============================] - 27s 34ms/step - loss: 0.5837 - accuracy: 0.8540 - val_loss: 0.5762 - val_accuracy: 0.8634\n",
            "Epoch 69/125\n",
            "781/781 [==============================] - 27s 34ms/step - loss: 0.5778 - accuracy: 0.8550 - val_loss: 0.6931 - val_accuracy: 0.8280\n",
            "Epoch 70/125\n",
            "781/781 [==============================] - 27s 34ms/step - loss: 0.5773 - accuracy: 0.8563 - val_loss: 0.6167 - val_accuracy: 0.8504\n",
            "Epoch 71/125\n",
            "781/781 [==============================] - 27s 34ms/step - loss: 0.5734 - accuracy: 0.8584 - val_loss: 0.6017 - val_accuracy: 0.8573\n",
            "Epoch 72/125\n",
            "781/781 [==============================] - 27s 34ms/step - loss: 0.5820 - accuracy: 0.8537 - val_loss: 0.6147 - val_accuracy: 0.8479\n",
            "Epoch 73/125\n",
            "781/781 [==============================] - 27s 34ms/step - loss: 0.5851 - accuracy: 0.8523 - val_loss: 0.6344 - val_accuracy: 0.8471\n",
            "Epoch 74/125\n",
            "781/781 [==============================] - 27s 34ms/step - loss: 0.5665 - accuracy: 0.8591 - val_loss: 0.6030 - val_accuracy: 0.8563\n",
            "Epoch 75/125\n",
            "781/781 [==============================] - 27s 34ms/step - loss: 0.5665 - accuracy: 0.8613 - val_loss: 0.6519 - val_accuracy: 0.8445\n",
            "Epoch 76/125\n",
            "781/781 [==============================] - 26s 34ms/step - loss: 0.5758 - accuracy: 0.8553 - val_loss: 0.6026 - val_accuracy: 0.8550\n",
            "Epoch 77/125\n",
            "781/781 [==============================] - 27s 34ms/step - loss: 0.5338 - accuracy: 0.8688 - val_loss: 0.5856 - val_accuracy: 0.8587\n",
            "Epoch 78/125\n",
            "781/781 [==============================] - 27s 34ms/step - loss: 0.5069 - accuracy: 0.8782 - val_loss: 0.5392 - val_accuracy: 0.8724\n",
            "Epoch 79/125\n",
            "781/781 [==============================] - 27s 34ms/step - loss: 0.5027 - accuracy: 0.8781 - val_loss: 0.5161 - val_accuracy: 0.8797\n",
            "Epoch 80/125\n",
            "781/781 [==============================] - 27s 34ms/step - loss: 0.5023 - accuracy: 0.8782 - val_loss: 0.5180 - val_accuracy: 0.8797\n",
            "Epoch 81/125\n",
            "781/781 [==============================] - 27s 34ms/step - loss: 0.4844 - accuracy: 0.8819 - val_loss: 0.5088 - val_accuracy: 0.8801\n",
            "Epoch 82/125\n",
            "781/781 [==============================] - 27s 34ms/step - loss: 0.4849 - accuracy: 0.8808 - val_loss: 0.5715 - val_accuracy: 0.8622\n",
            "Epoch 83/125\n",
            "781/781 [==============================] - 27s 34ms/step - loss: 0.4905 - accuracy: 0.8761 - val_loss: 0.5419 - val_accuracy: 0.8693\n",
            "Epoch 84/125\n",
            "781/781 [==============================] - 27s 34ms/step - loss: 0.4778 - accuracy: 0.8821 - val_loss: 0.5423 - val_accuracy: 0.8703\n",
            "Epoch 85/125\n",
            "781/781 [==============================] - 27s 34ms/step - loss: 0.4721 - accuracy: 0.8850 - val_loss: 0.5327 - val_accuracy: 0.8705\n",
            "Epoch 86/125\n",
            "781/781 [==============================] - 27s 34ms/step - loss: 0.4740 - accuracy: 0.8809 - val_loss: 0.5100 - val_accuracy: 0.8767\n",
            "Epoch 87/125\n",
            "781/781 [==============================] - 27s 34ms/step - loss: 0.4748 - accuracy: 0.8810 - val_loss: 0.4868 - val_accuracy: 0.8839\n",
            "Epoch 88/125\n",
            "781/781 [==============================] - 27s 34ms/step - loss: 0.4674 - accuracy: 0.8833 - val_loss: 0.5276 - val_accuracy: 0.8717\n",
            "Epoch 89/125\n",
            "781/781 [==============================] - 27s 34ms/step - loss: 0.4650 - accuracy: 0.8835 - val_loss: 0.5632 - val_accuracy: 0.8640\n",
            "Epoch 90/125\n",
            "781/781 [==============================] - 27s 34ms/step - loss: 0.4614 - accuracy: 0.8848 - val_loss: 0.5194 - val_accuracy: 0.8736\n",
            "Epoch 91/125\n",
            "781/781 [==============================] - 27s 34ms/step - loss: 0.4620 - accuracy: 0.8841 - val_loss: 0.5305 - val_accuracy: 0.8717\n",
            "Epoch 92/125\n",
            "781/781 [==============================] - 27s 34ms/step - loss: 0.4648 - accuracy: 0.8831 - val_loss: 0.4874 - val_accuracy: 0.8829\n",
            "Epoch 93/125\n",
            "781/781 [==============================] - 27s 34ms/step - loss: 0.4527 - accuracy: 0.8843 - val_loss: 0.4928 - val_accuracy: 0.8794\n",
            "Epoch 94/125\n",
            "781/781 [==============================] - 27s 34ms/step - loss: 0.4605 - accuracy: 0.8818 - val_loss: 0.4802 - val_accuracy: 0.8875\n",
            "Epoch 95/125\n",
            "781/781 [==============================] - 27s 34ms/step - loss: 0.4568 - accuracy: 0.8850 - val_loss: 0.5209 - val_accuracy: 0.8755\n",
            "Epoch 96/125\n",
            "781/781 [==============================] - 27s 34ms/step - loss: 0.4611 - accuracy: 0.8839 - val_loss: 0.5152 - val_accuracy: 0.8777\n",
            "Epoch 97/125\n",
            "781/781 [==============================] - 27s 34ms/step - loss: 0.4595 - accuracy: 0.8828 - val_loss: 0.5098 - val_accuracy: 0.8785\n",
            "Epoch 98/125\n",
            "781/781 [==============================] - 27s 34ms/step - loss: 0.4494 - accuracy: 0.8865 - val_loss: 0.4959 - val_accuracy: 0.8808\n",
            "Epoch 99/125\n",
            "781/781 [==============================] - 27s 35ms/step - loss: 0.4526 - accuracy: 0.8868 - val_loss: 0.5062 - val_accuracy: 0.8778\n",
            "Epoch 100/125\n",
            "781/781 [==============================] - 27s 34ms/step - loss: 0.4538 - accuracy: 0.8851 - val_loss: 0.4947 - val_accuracy: 0.8808\n",
            "Epoch 101/125\n",
            "781/781 [==============================] - 27s 34ms/step - loss: 0.4452 - accuracy: 0.8885 - val_loss: 0.4773 - val_accuracy: 0.8838\n",
            "Epoch 102/125\n",
            "781/781 [==============================] - 27s 34ms/step - loss: 0.4344 - accuracy: 0.8904 - val_loss: 0.4748 - val_accuracy: 0.8853\n",
            "Epoch 103/125\n",
            "781/781 [==============================] - 27s 34ms/step - loss: 0.4170 - accuracy: 0.8958 - val_loss: 0.4659 - val_accuracy: 0.8877\n",
            "Epoch 104/125\n",
            "781/781 [==============================] - 27s 34ms/step - loss: 0.4149 - accuracy: 0.8956 - val_loss: 0.4714 - val_accuracy: 0.8856\n",
            "Epoch 105/125\n",
            "781/781 [==============================] - 27s 34ms/step - loss: 0.4134 - accuracy: 0.8964 - val_loss: 0.4981 - val_accuracy: 0.8783\n",
            "Epoch 106/125\n",
            "781/781 [==============================] - 27s 34ms/step - loss: 0.4092 - accuracy: 0.8977 - val_loss: 0.4926 - val_accuracy: 0.8826\n",
            "Epoch 107/125\n",
            "781/781 [==============================] - 27s 34ms/step - loss: 0.4101 - accuracy: 0.8952 - val_loss: 0.4695 - val_accuracy: 0.8897\n",
            "Epoch 108/125\n",
            "781/781 [==============================] - 27s 34ms/step - loss: 0.4102 - accuracy: 0.8953 - val_loss: 0.4884 - val_accuracy: 0.8814\n",
            "Epoch 109/125\n",
            "781/781 [==============================] - 27s 34ms/step - loss: 0.4072 - accuracy: 0.8972 - val_loss: 0.4528 - val_accuracy: 0.8905\n",
            "Epoch 110/125\n",
            "781/781 [==============================] - 27s 34ms/step - loss: 0.4012 - accuracy: 0.8984 - val_loss: 0.4996 - val_accuracy: 0.8790\n",
            "Epoch 111/125\n",
            "781/781 [==============================] - 27s 34ms/step - loss: 0.4023 - accuracy: 0.8977 - val_loss: 0.4686 - val_accuracy: 0.8849\n",
            "Epoch 112/125\n",
            "781/781 [==============================] - 27s 34ms/step - loss: 0.3949 - accuracy: 0.9005 - val_loss: 0.4451 - val_accuracy: 0.8953\n",
            "Epoch 113/125\n",
            "781/781 [==============================] - 27s 34ms/step - loss: 0.4057 - accuracy: 0.8973 - val_loss: 0.4613 - val_accuracy: 0.8888\n",
            "Epoch 114/125\n",
            "781/781 [==============================] - 27s 34ms/step - loss: 0.4011 - accuracy: 0.8980 - val_loss: 0.4614 - val_accuracy: 0.8886\n",
            "Epoch 115/125\n",
            "781/781 [==============================] - 27s 34ms/step - loss: 0.3908 - accuracy: 0.9012 - val_loss: 0.4764 - val_accuracy: 0.8825\n",
            "Epoch 116/125\n",
            "781/781 [==============================] - 27s 34ms/step - loss: 0.3933 - accuracy: 0.8996 - val_loss: 0.5089 - val_accuracy: 0.8767\n",
            "Epoch 117/125\n",
            "781/781 [==============================] - 27s 35ms/step - loss: 0.4001 - accuracy: 0.8982 - val_loss: 0.4878 - val_accuracy: 0.8793\n",
            "Epoch 118/125\n",
            "781/781 [==============================] - 27s 34ms/step - loss: 0.3935 - accuracy: 0.9016 - val_loss: 0.4715 - val_accuracy: 0.8840\n",
            "Epoch 119/125\n",
            "781/781 [==============================] - 27s 35ms/step - loss: 0.3892 - accuracy: 0.9013 - val_loss: 0.4668 - val_accuracy: 0.8850\n",
            "Epoch 120/125\n",
            "781/781 [==============================] - 27s 34ms/step - loss: 0.3854 - accuracy: 0.9008 - val_loss: 0.4581 - val_accuracy: 0.8888\n",
            "Epoch 121/125\n",
            "781/781 [==============================] - 27s 34ms/step - loss: 0.3888 - accuracy: 0.9018 - val_loss: 0.4950 - val_accuracy: 0.8783\n",
            "Epoch 122/125\n",
            "781/781 [==============================] - 27s 34ms/step - loss: 0.3881 - accuracy: 0.9002 - val_loss: 0.4555 - val_accuracy: 0.8870\n",
            "Epoch 123/125\n",
            "781/781 [==============================] - 27s 35ms/step - loss: 0.3862 - accuracy: 0.9014 - val_loss: 0.4537 - val_accuracy: 0.8878\n",
            "Epoch 124/125\n",
            "781/781 [==============================] - 27s 34ms/step - loss: 0.3871 - accuracy: 0.9000 - val_loss: 0.4508 - val_accuracy: 0.8870\n",
            "Epoch 125/125\n",
            "781/781 [==============================] - 27s 34ms/step - loss: 0.3946 - accuracy: 0.8976 - val_loss: 0.4773 - val_accuracy: 0.8804\n"
          ],
          "name": "stdout"
        }
      ]
    },
    {
      "cell_type": "code",
      "metadata": {
        "colab": {
          "base_uri": "https://localhost:8080/"
        },
        "id": "AEycbHS0R0qR",
        "outputId": "5b598a24-cbf5-463c-ace3-afb8e5b938eb"
      },
      "source": [
        " #testing\n",
        "scores = model.evaluate(x_test, y_test, batch_size=128, verbose=1)\n",
        "print('\\nTest result: %.3f loss: %.3f' % (scores[1]*100,scores[0]))"
      ],
      "execution_count": null,
      "outputs": [
        {
          "output_type": "stream",
          "text": [
            "79/79 [==============================] - 1s 5ms/step - loss: 0.4773 - accuracy: 0.8804\n",
            "\n",
            "Test result: 88.040 loss: 0.477\n"
          ],
          "name": "stdout"
        }
      ]
    },
    {
      "cell_type": "code",
      "metadata": {
        "colab": {
          "base_uri": "https://localhost:8080/",
          "height": 342
        },
        "id": "QN_Rw-T-V2sy",
        "outputId": "87b907c9-3099-4db2-de48-18d99124ae98"
      },
      "source": [
        "from matplotlib import pyplot\n",
        "\n",
        "model.load_weights('model.h5')\n",
        " \n",
        "labels =  ['airplane','automobile','bird','cat','deer','dog','frog','horse','ship','truck']\n",
        " \n",
        "indices = np.argmax(model.predict(x_test[:26]),1)\n",
        "print([labels[x] for x in indices])\n",
        "imshow(x_test[2])"
      ],
      "execution_count": null,
      "outputs": [
        {
          "output_type": "stream",
          "text": [
            "Clipping input data to the valid range for imshow with RGB data ([0..1] for floats or [0..255] for integers).\n"
          ],
          "name": "stderr"
        },
        {
          "output_type": "stream",
          "text": [
            "['cat', 'ship', 'ship', 'airplane', 'frog', 'frog', 'automobile', 'frog', 'cat', 'automobile', 'airplane', 'truck', 'dog', 'horse', 'truck', 'ship', 'dog', 'horse', 'ship', 'frog', 'horse', 'airplane', 'deer', 'truck', 'deer', 'bird']\n"
          ],
          "name": "stdout"
        },
        {
          "output_type": "execute_result",
          "data": {
            "text/plain": [
              "<matplotlib.image.AxesImage at 0x7f88173bf150>"
            ]
          },
          "metadata": {
            "tags": []
          },
          "execution_count": 65
        },
        {
          "output_type": "display_data",
          "data": {
            "image/png": "[encoded data removed]",
            "text/plain": [
              "<Figure size 432x288 with 1 Axes>"
            ]
          },
          "metadata": {
            "tags": []
          }
        }
      ]
    },
    {
      "cell_type": "code",
      "metadata": {
        "id": "7NnHyIy5oX8V"
      },
      "source": [
        "model = Sequential()\n",
        "model.add(Conv2D(32, (3,3), padding='same', kernel_regularizer=regularizers.l2(weight_decay), input_shape=x_train.shape[1:]))\n",
        "model.add(Activation('relu'))\n",
        "model.add(BatchNormalization())\n",
        "\n",
        "model.add(Conv2D(32, (3,3), padding='same', kernel_regularizer=regularizers.l2(weight_decay)))\n",
        "model.add(Activation('relu'))\n",
        "model.add(BatchNormalization())\n",
        "\n",
        "model.add(MaxPooling2D(pool_size=(2,2)))\n",
        "model.add(Dropout(0.2))\n",
        " \n",
        "model.add(Conv2D(64, (3,3), padding='same', kernel_regularizer=regularizers.l2(weight_decay)))\n",
        "model.add(Activation('relu'))\n",
        "model.add(BatchNormalization())\n",
        "\n",
        "model.add(Conv2D(64, (3,3), padding='same', kernel_regularizer=regularizers.l2(weight_decay)))\n",
        "model.add(Activation('relu'))\n",
        "model.add(BatchNormalization())\n",
        "\n",
        "model.add(MaxPooling2D(pool_size=(2,2)))\n",
        "model.add(Dropout(0.3))\n",
        " \n",
        "model.add(Conv2D(128, (3,3), padding='same', kernel_regularizer=regularizers.l2(weight_decay)))\n",
        "model.add(Activation('relu'))\n",
        "model.add(BatchNormalization())\n",
        "\n",
        "model.add(Conv2D(128, (3,3), padding='same', kernel_regularizer=regularizers.l2(weight_decay)))\n",
        "model.add(Activation('relu'))\n",
        "model.add(BatchNormalization())\n",
        "\n",
        "model.add(MaxPooling2D(pool_size=(2,2)))\n",
        "model.add(Dropout(0.4))\n",
        "\n",
        "\n",
        "model.add(Flatten())\n",
        "model.add(Dense(1024, activation='relu'))\n",
        "model.add(BatchNormalization())\n",
        "model.add(Dropout(0.5))\n",
        "model.add(Dense(512, activation='relu'))\n",
        "model.add(BatchNormalization())\n",
        "model.add(Dropout(0.5))\n",
        "model.add(Dense(10, activation='softmax'))"
      ],
      "execution_count": null,
      "outputs": []
    },
    {
      "cell_type": "code",
      "metadata": {
        "colab": {
          "base_uri": "https://localhost:8080/"
        },
        "id": "pZIEm4JApk5R",
        "outputId": "20bcaa1b-830d-4757-bba4-1302be947dc2"
      },
      "source": [
        "model.summary()"
      ],
      "execution_count": null,
      "outputs": [
        {
          "output_type": "stream",
          "text": [
            "Model: \"sequential_17\"\n",
            "_________________________________________________________________\n",
            "Layer (type)                 Output Shape              Param #   \n",
            "=================================================================\n",
            "conv2d_78 (Conv2D)           (None, 32, 32, 32)        896       \n",
            "_________________________________________________________________\n",
            "activation_54 (Activation)   (None, 32, 32, 32)        0         \n",
            "_________________________________________________________________\n",
            "batch_normalization_63 (Batc (None, 32, 32, 32)        128       \n",
            "_________________________________________________________________\n",
            "conv2d_79 (Conv2D)           (None, 32, 32, 32)        9248      \n",
            "_________________________________________________________________\n",
            "activation_55 (Activation)   (None, 32, 32, 32)        0         \n",
            "_________________________________________________________________\n",
            "batch_normalization_64 (Batc (None, 32, 32, 32)        128       \n",
            "_________________________________________________________________\n",
            "max_pooling2d_36 (MaxPooling (None, 16, 16, 32)        0         \n",
            "_________________________________________________________________\n",
            "dropout_35 (Dropout)         (None, 16, 16, 32)        0         \n",
            "_________________________________________________________________\n",
            "conv2d_80 (Conv2D)           (None, 16, 16, 64)        18496     \n",
            "_________________________________________________________________\n",
            "activation_56 (Activation)   (None, 16, 16, 64)        0         \n",
            "_________________________________________________________________\n",
            "batch_normalization_65 (Batc (None, 16, 16, 64)        256       \n",
            "_________________________________________________________________\n",
            "conv2d_81 (Conv2D)           (None, 16, 16, 64)        36928     \n",
            "_________________________________________________________________\n",
            "activation_57 (Activation)   (None, 16, 16, 64)        0         \n",
            "_________________________________________________________________\n",
            "batch_normalization_66 (Batc (None, 16, 16, 64)        256       \n",
            "_________________________________________________________________\n",
            "max_pooling2d_37 (MaxPooling (None, 8, 8, 64)          0         \n",
            "_________________________________________________________________\n",
            "dropout_36 (Dropout)         (None, 8, 8, 64)          0         \n",
            "_________________________________________________________________\n",
            "conv2d_82 (Conv2D)           (None, 8, 8, 128)         73856     \n",
            "_________________________________________________________________\n",
            "activation_58 (Activation)   (None, 8, 8, 128)         0         \n",
            "_________________________________________________________________\n",
            "batch_normalization_67 (Batc (None, 8, 8, 128)         512       \n",
            "_________________________________________________________________\n",
            "conv2d_83 (Conv2D)           (None, 8, 8, 128)         147584    \n",
            "_________________________________________________________________\n",
            "activation_59 (Activation)   (None, 8, 8, 128)         0         \n",
            "_________________________________________________________________\n",
            "batch_normalization_68 (Batc (None, 8, 8, 128)         512       \n",
            "_________________________________________________________________\n",
            "max_pooling2d_38 (MaxPooling (None, 4, 4, 128)         0         \n",
            "_________________________________________________________________\n",
            "dropout_37 (Dropout)         (None, 4, 4, 128)         0         \n",
            "_________________________________________________________________\n",
            "flatten_10 (Flatten)         (None, 2048)              0         \n",
            "_________________________________________________________________\n",
            "dense_7 (Dense)              (None, 1024)              2098176   \n",
            "_________________________________________________________________\n",
            "batch_normalization_69 (Batc (None, 1024)              4096      \n",
            "_________________________________________________________________\n",
            "dropout_38 (Dropout)         (None, 1024)              0         \n",
            "_________________________________________________________________\n",
            "dense_8 (Dense)              (None, 512)               524800    \n",
            "_________________________________________________________________\n",
            "batch_normalization_70 (Batc (None, 512)               2048      \n",
            "_________________________________________________________________\n",
            "dropout_39 (Dropout)         (None, 512)               0         \n",
            "_________________________________________________________________\n",
            "dense_9 (Dense)              (None, 10)                5130      \n",
            "=================================================================\n",
            "Total params: 2,923,050\n",
            "Trainable params: 2,919,082\n",
            "Non-trainable params: 3,968\n",
            "_________________________________________________________________\n"
          ],
          "name": "stdout"
        }
      ]
    },
    {
      "cell_type": "code",
      "metadata": {
        "id": "HlzPTgGfrMkQ"
      },
      "source": [
        "#data augmentation\n",
        "datagen = ImageDataGenerator(\n",
        "    rotation_range=15,\n",
        "    width_shift_range=0.2,\n",
        "    height_shift_range=0.2,\n",
        "    horizontal_flip=True,\n",
        "\n",
        "    )"
      ],
      "execution_count": null,
      "outputs": []
    },
    {
      "cell_type": "code",
      "metadata": {
        "id": "OUA3WYsRrVbz"
      },
      "source": [
        "datagen.fit(x_train)"
      ],
      "execution_count": null,
      "outputs": []
    },
    {
      "cell_type": "code",
      "metadata": {
        "id": "75RzzALerZ-W"
      },
      "source": [
        "batch_size=64"
      ],
      "execution_count": null,
      "outputs": []
    },
    {
      "cell_type": "code",
      "metadata": {
        "colab": {
          "base_uri": "https://localhost:8080/"
        },
        "id": "GWFSb_CFrcKm",
        "outputId": "68f1e9f6-4253-4a5d-fe65-82039c75ba7e"
      },
      "source": [
        "opt_rms = keras.optimizers.RMSprop(lr=0.001,decay=1e-6)\n",
        "model.compile(loss='categorical_crossentropy', optimizer=opt_rms, metrics=['accuracy'])\n",
        "model.fit_generator(datagen.flow(x_train, y_train, batch_size=batch_size),\\\n",
        "                    steps_per_epoch=x_train.shape[0] // batch_size,epochs=300,\\\n",
        "                    verbose=1,validation_data=(x_test,y_test),callbacks=[LearningRateScheduler(lr_schedule)])\n",
        "model.save_weights('model.h5') "
      ],
      "execution_count": null,
      "outputs": [
        {
          "output_type": "stream",
          "text": [
            "/usr/local/lib/python3.7/dist-packages/tensorflow/python/keras/engine/training.py:1844: UserWarning: `Model.fit_generator` is deprecated and will be removed in a future version. Please use `Model.fit`, which supports generators.\n",
            "  warnings.warn('`Model.fit_generator` is deprecated and '\n"
          ],
          "name": "stderr"
        },
        {
          "output_type": "stream",
          "text": [
            "Epoch 1/300\n",
            "781/781 [==============================] - 30s 36ms/step - loss: 0.9819 - accuracy: 0.6889 - val_loss: 0.9619 - val_accuracy: 0.7099\n",
            "Epoch 2/300\n",
            "781/781 [==============================] - 28s 36ms/step - loss: 0.9290 - accuracy: 0.7140 - val_loss: 0.7714 - val_accuracy: 0.7732\n",
            "Epoch 3/300\n",
            "781/781 [==============================] - 28s 36ms/step - loss: 0.9044 - accuracy: 0.7248 - val_loss: 0.8493 - val_accuracy: 0.7583\n",
            "Epoch 4/300\n",
            "781/781 [==============================] - 28s 36ms/step - loss: 0.8885 - accuracy: 0.7319 - val_loss: 0.7948 - val_accuracy: 0.7723\n",
            "Epoch 5/300\n",
            "781/781 [==============================] - 28s 36ms/step - loss: 0.8587 - accuracy: 0.7459 - val_loss: 0.8509 - val_accuracy: 0.7656\n",
            "Epoch 6/300\n",
            "781/781 [==============================] - 28s 36ms/step - loss: 0.8399 - accuracy: 0.7545 - val_loss: 0.8063 - val_accuracy: 0.7764\n",
            "Epoch 7/300\n",
            "781/781 [==============================] - 28s 36ms/step - loss: 0.8225 - accuracy: 0.7613 - val_loss: 0.7786 - val_accuracy: 0.7822\n",
            "Epoch 8/300\n",
            "781/781 [==============================] - 28s 36ms/step - loss: 0.8184 - accuracy: 0.7613 - val_loss: 0.7961 - val_accuracy: 0.7842\n",
            "Epoch 9/300\n",
            "781/781 [==============================] - 28s 36ms/step - loss: 0.8073 - accuracy: 0.7660 - val_loss: 0.7087 - val_accuracy: 0.8107\n",
            "Epoch 10/300\n",
            "781/781 [==============================] - 28s 36ms/step - loss: 0.8037 - accuracy: 0.7705 - val_loss: 0.7040 - val_accuracy: 0.8149\n",
            "Epoch 11/300\n",
            "781/781 [==============================] - 29s 37ms/step - loss: 0.7967 - accuracy: 0.7733 - val_loss: 0.8338 - val_accuracy: 0.7733\n",
            "Epoch 12/300\n",
            "781/781 [==============================] - 29s 38ms/step - loss: 0.7800 - accuracy: 0.7804 - val_loss: 0.7961 - val_accuracy: 0.7890\n",
            "Epoch 13/300\n",
            "781/781 [==============================] - 29s 38ms/step - loss: 0.7794 - accuracy: 0.7819 - val_loss: 0.7308 - val_accuracy: 0.8081\n",
            "Epoch 14/300\n",
            "781/781 [==============================] - 29s 37ms/step - loss: 0.7686 - accuracy: 0.7880 - val_loss: 0.6445 - val_accuracy: 0.8336\n",
            "Epoch 15/300\n",
            "781/781 [==============================] - 30s 38ms/step - loss: 0.7568 - accuracy: 0.7908 - val_loss: 0.6779 - val_accuracy: 0.8237\n",
            "Epoch 16/300\n",
            "781/781 [==============================] - 29s 37ms/step - loss: 0.7592 - accuracy: 0.7915 - val_loss: 0.7120 - val_accuracy: 0.8135\n",
            "Epoch 17/300\n",
            "781/781 [==============================] - 29s 38ms/step - loss: 0.7548 - accuracy: 0.7922 - val_loss: 0.6392 - val_accuracy: 0.8356\n",
            "Epoch 18/300\n",
            "781/781 [==============================] - 29s 37ms/step - loss: 0.7507 - accuracy: 0.7966 - val_loss: 0.7102 - val_accuracy: 0.8167\n",
            "Epoch 19/300\n",
            "781/781 [==============================] - 29s 37ms/step - loss: 0.7466 - accuracy: 0.7973 - val_loss: 0.6559 - val_accuracy: 0.8307\n",
            "Epoch 20/300\n",
            "781/781 [==============================] - 29s 37ms/step - loss: 0.7384 - accuracy: 0.7980 - val_loss: 0.6748 - val_accuracy: 0.8265\n",
            "Epoch 21/300\n",
            "781/781 [==============================] - 28s 36ms/step - loss: 0.7348 - accuracy: 0.8033 - val_loss: 0.6530 - val_accuracy: 0.8344\n",
            "Epoch 22/300\n",
            "781/781 [==============================] - 28s 36ms/step - loss: 0.7302 - accuracy: 0.8036 - val_loss: 0.6558 - val_accuracy: 0.8361\n",
            "Epoch 23/300\n",
            "781/781 [==============================] - 28s 36ms/step - loss: 0.7275 - accuracy: 0.8043 - val_loss: 0.6425 - val_accuracy: 0.8386\n",
            "Epoch 24/300\n",
            "781/781 [==============================] - 29s 37ms/step - loss: 0.7261 - accuracy: 0.8042 - val_loss: 0.7176 - val_accuracy: 0.8194\n",
            "Epoch 25/300\n",
            "781/781 [==============================] - 28s 36ms/step - loss: 0.7213 - accuracy: 0.8049 - val_loss: 0.7331 - val_accuracy: 0.8177\n",
            "Epoch 26/300\n",
            "781/781 [==============================] - 28s 36ms/step - loss: 0.7255 - accuracy: 0.8060 - val_loss: 0.6278 - val_accuracy: 0.8431\n",
            "Epoch 27/300\n",
            "781/781 [==============================] - 28s 36ms/step - loss: 0.7210 - accuracy: 0.8086 - val_loss: 0.6234 - val_accuracy: 0.8469\n",
            "Epoch 28/300\n",
            "781/781 [==============================] - 29s 37ms/step - loss: 0.7215 - accuracy: 0.8072 - val_loss: 0.6874 - val_accuracy: 0.8245\n",
            "Epoch 29/300\n",
            "781/781 [==============================] - 28s 36ms/step - loss: 0.7090 - accuracy: 0.8127 - val_loss: 0.6650 - val_accuracy: 0.8332\n",
            "Epoch 30/300\n",
            "781/781 [==============================] - 29s 37ms/step - loss: 0.7069 - accuracy: 0.8141 - val_loss: 0.7038 - val_accuracy: 0.8226\n",
            "Epoch 31/300\n",
            "781/781 [==============================] - 29s 37ms/step - loss: 0.7142 - accuracy: 0.8106 - val_loss: 0.6086 - val_accuracy: 0.8492\n",
            "Epoch 32/300\n",
            "781/781 [==============================] - 28s 36ms/step - loss: 0.7073 - accuracy: 0.8144 - val_loss: 0.6912 - val_accuracy: 0.8264\n",
            "Epoch 33/300\n",
            "781/781 [==============================] - 28s 36ms/step - loss: 0.7069 - accuracy: 0.8163 - val_loss: 0.6956 - val_accuracy: 0.8256\n",
            "Epoch 34/300\n",
            "781/781 [==============================] - 28s 36ms/step - loss: 0.7008 - accuracy: 0.8144 - val_loss: 0.6131 - val_accuracy: 0.8499\n",
            "Epoch 35/300\n",
            "781/781 [==============================] - 28s 36ms/step - loss: 0.6929 - accuracy: 0.8187 - val_loss: 0.7864 - val_accuracy: 0.8069\n",
            "Epoch 36/300\n",
            "781/781 [==============================] - 28s 36ms/step - loss: 0.7098 - accuracy: 0.8131 - val_loss: 0.6449 - val_accuracy: 0.8414\n",
            "Epoch 37/300\n",
            "781/781 [==============================] - 29s 37ms/step - loss: 0.7034 - accuracy: 0.8138 - val_loss: 0.6840 - val_accuracy: 0.8321\n",
            "Epoch 38/300\n",
            "781/781 [==============================] - 29s 37ms/step - loss: 0.6958 - accuracy: 0.8169 - val_loss: 0.6341 - val_accuracy: 0.8452\n",
            "Epoch 39/300\n",
            "781/781 [==============================] - 29s 37ms/step - loss: 0.6945 - accuracy: 0.8185 - val_loss: 0.6031 - val_accuracy: 0.8517\n",
            "Epoch 40/300\n",
            "781/781 [==============================] - 28s 36ms/step - loss: 0.6897 - accuracy: 0.8191 - val_loss: 0.6344 - val_accuracy: 0.8418\n",
            "Epoch 41/300\n",
            "781/781 [==============================] - 28s 36ms/step - loss: 0.6894 - accuracy: 0.8183 - val_loss: 0.6853 - val_accuracy: 0.8407\n",
            "Epoch 42/300\n",
            "781/781 [==============================] - 28s 36ms/step - loss: 0.6970 - accuracy: 0.8197 - val_loss: 0.6316 - val_accuracy: 0.8463\n",
            "Epoch 43/300\n",
            "781/781 [==============================] - 28s 36ms/step - loss: 0.6843 - accuracy: 0.8207 - val_loss: 0.6491 - val_accuracy: 0.8443\n",
            "Epoch 44/300\n",
            "781/781 [==============================] - 28s 36ms/step - loss: 0.6884 - accuracy: 0.8224 - val_loss: 0.6237 - val_accuracy: 0.8520\n",
            "Epoch 45/300\n",
            "781/781 [==============================] - 28s 36ms/step - loss: 0.6784 - accuracy: 0.8246 - val_loss: 0.6162 - val_accuracy: 0.8505\n",
            "Epoch 46/300\n",
            "781/781 [==============================] - 28s 36ms/step - loss: 0.6798 - accuracy: 0.8224 - val_loss: 0.6555 - val_accuracy: 0.8376\n",
            "Epoch 47/300\n",
            "781/781 [==============================] - 28s 36ms/step - loss: 0.6865 - accuracy: 0.8219 - val_loss: 0.6388 - val_accuracy: 0.8443\n",
            "Epoch 48/300\n",
            "781/781 [==============================] - 28s 36ms/step - loss: 0.6778 - accuracy: 0.8246 - val_loss: 0.7683 - val_accuracy: 0.8125\n",
            "Epoch 49/300\n",
            "781/781 [==============================] - 28s 36ms/step - loss: 0.6685 - accuracy: 0.8288 - val_loss: 0.5996 - val_accuracy: 0.8594\n",
            "Epoch 50/300\n",
            "781/781 [==============================] - 29s 37ms/step - loss: 0.6706 - accuracy: 0.8247 - val_loss: 0.6134 - val_accuracy: 0.8512\n",
            "Epoch 51/300\n",
            "781/781 [==============================] - 28s 36ms/step - loss: 0.6705 - accuracy: 0.8254 - val_loss: 0.6036 - val_accuracy: 0.8514\n",
            "Epoch 52/300\n",
            "781/781 [==============================] - 28s 36ms/step - loss: 0.6790 - accuracy: 0.8239 - val_loss: 0.6519 - val_accuracy: 0.8435\n",
            "Epoch 53/300\n",
            "781/781 [==============================] - 29s 37ms/step - loss: 0.6765 - accuracy: 0.8240 - val_loss: 0.6443 - val_accuracy: 0.8410\n",
            "Epoch 54/300\n",
            "781/781 [==============================] - 29s 37ms/step - loss: 0.6693 - accuracy: 0.8260 - val_loss: 0.6440 - val_accuracy: 0.8439\n",
            "Epoch 55/300\n",
            "781/781 [==============================] - 28s 36ms/step - loss: 0.6730 - accuracy: 0.8246 - val_loss: 0.6034 - val_accuracy: 0.8524\n",
            "Epoch 56/300\n",
            "781/781 [==============================] - 28s 36ms/step - loss: 0.6691 - accuracy: 0.8274 - val_loss: 0.6104 - val_accuracy: 0.8528\n",
            "Epoch 57/300\n",
            "781/781 [==============================] - 28s 36ms/step - loss: 0.6709 - accuracy: 0.8258 - val_loss: 0.7229 - val_accuracy: 0.8248\n",
            "Epoch 58/300\n",
            "781/781 [==============================] - 28s 36ms/step - loss: 0.6694 - accuracy: 0.8280 - val_loss: 0.7281 - val_accuracy: 0.8214\n",
            "Epoch 59/300\n",
            "781/781 [==============================] - 28s 36ms/step - loss: 0.6729 - accuracy: 0.8255 - val_loss: 0.5877 - val_accuracy: 0.8603\n",
            "Epoch 60/300\n",
            "781/781 [==============================] - 29s 37ms/step - loss: 0.6730 - accuracy: 0.8253 - val_loss: 0.6093 - val_accuracy: 0.8559\n",
            "Epoch 61/300\n",
            "781/781 [==============================] - 29s 37ms/step - loss: 0.6638 - accuracy: 0.8286 - val_loss: 0.6194 - val_accuracy: 0.8518\n",
            "Epoch 62/300\n",
            "781/781 [==============================] - 28s 36ms/step - loss: 0.6590 - accuracy: 0.8292 - val_loss: 0.6632 - val_accuracy: 0.8411\n",
            "Epoch 63/300\n",
            "781/781 [==============================] - 28s 36ms/step - loss: 0.6658 - accuracy: 0.8297 - val_loss: 0.6303 - val_accuracy: 0.8524\n",
            "Epoch 64/300\n",
            "781/781 [==============================] - 28s 36ms/step - loss: 0.6565 - accuracy: 0.8302 - val_loss: 0.6526 - val_accuracy: 0.8388\n",
            "Epoch 65/300\n",
            "781/781 [==============================] - 28s 36ms/step - loss: 0.6690 - accuracy: 0.8256 - val_loss: 0.6039 - val_accuracy: 0.8572\n",
            "Epoch 66/300\n",
            "781/781 [==============================] - 28s 36ms/step - loss: 0.6528 - accuracy: 0.8307 - val_loss: 0.6383 - val_accuracy: 0.8496\n",
            "Epoch 67/300\n",
            "781/781 [==============================] - 28s 36ms/step - loss: 0.6655 - accuracy: 0.8311 - val_loss: 0.6199 - val_accuracy: 0.8498\n",
            "Epoch 68/300\n",
            "781/781 [==============================] - 28s 36ms/step - loss: 0.6565 - accuracy: 0.8298 - val_loss: 0.5900 - val_accuracy: 0.8597\n",
            "Epoch 69/300\n",
            "781/781 [==============================] - 28s 36ms/step - loss: 0.6510 - accuracy: 0.8329 - val_loss: 0.6179 - val_accuracy: 0.8541\n",
            "Epoch 70/300\n",
            "781/781 [==============================] - 28s 36ms/step - loss: 0.6585 - accuracy: 0.8286 - val_loss: 0.5911 - val_accuracy: 0.8550\n",
            "Epoch 71/300\n",
            "781/781 [==============================] - 28s 36ms/step - loss: 0.6538 - accuracy: 0.8329 - val_loss: 0.6146 - val_accuracy: 0.8542\n",
            "Epoch 72/300\n",
            "781/781 [==============================] - 28s 36ms/step - loss: 0.6504 - accuracy: 0.8336 - val_loss: 0.5537 - val_accuracy: 0.8696\n",
            "Epoch 73/300\n",
            "781/781 [==============================] - 28s 36ms/step - loss: 0.6431 - accuracy: 0.8348 - val_loss: 0.6580 - val_accuracy: 0.8401\n",
            "Epoch 74/300\n",
            "781/781 [==============================] - 29s 37ms/step - loss: 0.6440 - accuracy: 0.8381 - val_loss: 0.5992 - val_accuracy: 0.8515\n",
            "Epoch 75/300\n",
            "781/781 [==============================] - 29s 37ms/step - loss: 0.6541 - accuracy: 0.8327 - val_loss: 0.6032 - val_accuracy: 0.8535\n",
            "Epoch 76/300\n",
            "781/781 [==============================] - 29s 37ms/step - loss: 0.6556 - accuracy: 0.8330 - val_loss: 0.5923 - val_accuracy: 0.8590\n",
            "Epoch 77/300\n",
            "781/781 [==============================] - 29s 38ms/step - loss: 0.6143 - accuracy: 0.8467 - val_loss: 0.5569 - val_accuracy: 0.8678\n",
            "Epoch 78/300\n",
            "781/781 [==============================] - 29s 37ms/step - loss: 0.5996 - accuracy: 0.8477 - val_loss: 0.5348 - val_accuracy: 0.8719\n",
            "Epoch 79/300\n",
            "781/781 [==============================] - 29s 37ms/step - loss: 0.5849 - accuracy: 0.8542 - val_loss: 0.5904 - val_accuracy: 0.8623\n",
            "Epoch 80/300\n",
            "781/781 [==============================] - 29s 37ms/step - loss: 0.5769 - accuracy: 0.8529 - val_loss: 0.5084 - val_accuracy: 0.8828\n",
            "Epoch 81/300\n",
            "781/781 [==============================] - 29s 37ms/step - loss: 0.5761 - accuracy: 0.8546 - val_loss: 0.5281 - val_accuracy: 0.8749\n",
            "Epoch 82/300\n",
            "781/781 [==============================] - 29s 38ms/step - loss: 0.5589 - accuracy: 0.8607 - val_loss: 0.5610 - val_accuracy: 0.8661\n",
            "Epoch 83/300\n",
            "781/781 [==============================] - 30s 38ms/step - loss: 0.5693 - accuracy: 0.8547 - val_loss: 0.5278 - val_accuracy: 0.8714\n",
            "Epoch 84/300\n",
            "781/781 [==============================] - 30s 38ms/step - loss: 0.5617 - accuracy: 0.8579 - val_loss: 0.5462 - val_accuracy: 0.8669\n",
            "Epoch 85/300\n",
            "781/781 [==============================] - 30s 38ms/step - loss: 0.5569 - accuracy: 0.8573 - val_loss: 0.5301 - val_accuracy: 0.8710\n",
            "Epoch 86/300\n",
            "781/781 [==============================] - 29s 38ms/step - loss: 0.5506 - accuracy: 0.8595 - val_loss: 0.5348 - val_accuracy: 0.8695\n",
            "Epoch 87/300\n",
            "781/781 [==============================] - 29s 37ms/step - loss: 0.5477 - accuracy: 0.8593 - val_loss: 0.4797 - val_accuracy: 0.8845\n",
            "Epoch 88/300\n",
            "781/781 [==============================] - 29s 37ms/step - loss: 0.5522 - accuracy: 0.8573 - val_loss: 0.5181 - val_accuracy: 0.8739\n",
            "Epoch 89/300\n",
            "781/781 [==============================] - 29s 37ms/step - loss: 0.5492 - accuracy: 0.8603 - val_loss: 0.5073 - val_accuracy: 0.8779\n",
            "Epoch 90/300\n",
            "781/781 [==============================] - 29s 37ms/step - loss: 0.5435 - accuracy: 0.8602 - val_loss: 0.5325 - val_accuracy: 0.8717\n",
            "Epoch 91/300\n",
            "781/781 [==============================] - 29s 37ms/step - loss: 0.5439 - accuracy: 0.8599 - val_loss: 0.4938 - val_accuracy: 0.8800\n",
            "Epoch 92/300\n",
            "781/781 [==============================] - 29s 37ms/step - loss: 0.5413 - accuracy: 0.8578 - val_loss: 0.5373 - val_accuracy: 0.8708\n",
            "Epoch 93/300\n",
            "781/781 [==============================] - 29s 38ms/step - loss: 0.5348 - accuracy: 0.8611 - val_loss: 0.5601 - val_accuracy: 0.8619\n",
            "Epoch 94/300\n",
            "781/781 [==============================] - 29s 37ms/step - loss: 0.5423 - accuracy: 0.8594 - val_loss: 0.5253 - val_accuracy: 0.8713\n",
            "Epoch 95/300\n",
            "781/781 [==============================] - 29s 37ms/step - loss: 0.5332 - accuracy: 0.8617 - val_loss: 0.5203 - val_accuracy: 0.8734\n",
            "Epoch 96/300\n",
            "781/781 [==============================] - 29s 37ms/step - loss: 0.5289 - accuracy: 0.8645 - val_loss: 0.5498 - val_accuracy: 0.8667\n",
            "Epoch 97/300\n",
            "781/781 [==============================] - 29s 37ms/step - loss: 0.5340 - accuracy: 0.8634 - val_loss: 0.5627 - val_accuracy: 0.8632\n",
            "Epoch 98/300\n",
            "781/781 [==============================] - 29s 37ms/step - loss: 0.5249 - accuracy: 0.8602 - val_loss: 0.5476 - val_accuracy: 0.8672\n",
            "Epoch 99/300\n",
            "781/781 [==============================] - 29s 37ms/step - loss: 0.5295 - accuracy: 0.8602 - val_loss: 0.5145 - val_accuracy: 0.8736\n",
            "Epoch 100/300\n",
            "781/781 [==============================] - 29s 37ms/step - loss: 0.5369 - accuracy: 0.8587 - val_loss: 0.5373 - val_accuracy: 0.8694\n",
            "Epoch 101/300\n",
            "781/781 [==============================] - 29s 37ms/step - loss: 0.5253 - accuracy: 0.8626 - val_loss: 0.4890 - val_accuracy: 0.8803\n",
            "Epoch 102/300\n",
            "781/781 [==============================] - 29s 37ms/step - loss: 0.5179 - accuracy: 0.8656 - val_loss: 0.4873 - val_accuracy: 0.8812\n",
            "Epoch 103/300\n",
            "781/781 [==============================] - 29s 37ms/step - loss: 0.4936 - accuracy: 0.8700 - val_loss: 0.4790 - val_accuracy: 0.8837\n",
            "Epoch 104/300\n",
            "781/781 [==============================] - 30s 38ms/step - loss: 0.4995 - accuracy: 0.8690 - val_loss: 0.4810 - val_accuracy: 0.8791\n",
            "Epoch 105/300\n",
            "781/781 [==============================] - 30s 38ms/step - loss: 0.4925 - accuracy: 0.8724 - val_loss: 0.4808 - val_accuracy: 0.8796\n",
            "Epoch 106/300\n",
            "781/781 [==============================] - 29s 37ms/step - loss: 0.5000 - accuracy: 0.8701 - val_loss: 0.4591 - val_accuracy: 0.8871\n",
            "Epoch 107/300\n",
            "781/781 [==============================] - 29s 37ms/step - loss: 0.4921 - accuracy: 0.8723 - val_loss: 0.5160 - val_accuracy: 0.8747\n",
            "Epoch 108/300\n",
            "781/781 [==============================] - 29s 37ms/step - loss: 0.4881 - accuracy: 0.8727 - val_loss: 0.4695 - val_accuracy: 0.8836\n",
            "Epoch 109/300\n",
            "781/781 [==============================] - 29s 37ms/step - loss: 0.4851 - accuracy: 0.8745 - val_loss: 0.4712 - val_accuracy: 0.8843\n",
            "Epoch 110/300\n",
            "781/781 [==============================] - 29s 37ms/step - loss: 0.4848 - accuracy: 0.8726 - val_loss: 0.4782 - val_accuracy: 0.8825\n",
            "Epoch 111/300\n",
            "781/781 [==============================] - 29s 37ms/step - loss: 0.4844 - accuracy: 0.8746 - val_loss: 0.4815 - val_accuracy: 0.8815\n",
            "Epoch 112/300\n",
            "781/781 [==============================] - 29s 37ms/step - loss: 0.4849 - accuracy: 0.8723 - val_loss: 0.4756 - val_accuracy: 0.8821\n",
            "Epoch 113/300\n",
            "781/781 [==============================] - 29s 37ms/step - loss: 0.4823 - accuracy: 0.8745 - val_loss: 0.4530 - val_accuracy: 0.8850\n",
            "Epoch 114/300\n",
            "781/781 [==============================] - 29s 37ms/step - loss: 0.4784 - accuracy: 0.8750 - val_loss: 0.4614 - val_accuracy: 0.8848\n",
            "Epoch 115/300\n",
            "781/781 [==============================] - 29s 37ms/step - loss: 0.4849 - accuracy: 0.8728 - val_loss: 0.4718 - val_accuracy: 0.8842\n",
            "Epoch 116/300\n",
            "781/781 [==============================] - 29s 37ms/step - loss: 0.4761 - accuracy: 0.8768 - val_loss: 0.4588 - val_accuracy: 0.8841\n",
            "Epoch 117/300\n",
            "781/781 [==============================] - 29s 37ms/step - loss: 0.4854 - accuracy: 0.8712 - val_loss: 0.4726 - val_accuracy: 0.8828\n",
            "Epoch 118/300\n",
            "781/781 [==============================] - 29s 37ms/step - loss: 0.4714 - accuracy: 0.8749 - val_loss: 0.4664 - val_accuracy: 0.8850\n",
            "Epoch 119/300\n",
            "781/781 [==============================] - 29s 37ms/step - loss: 0.4735 - accuracy: 0.8759 - val_loss: 0.4867 - val_accuracy: 0.8782\n",
            "Epoch 120/300\n",
            "781/781 [==============================] - 29s 37ms/step - loss: 0.4749 - accuracy: 0.8770 - val_loss: 0.4516 - val_accuracy: 0.8894\n",
            "Epoch 121/300\n",
            "781/781 [==============================] - 29s 37ms/step - loss: 0.4733 - accuracy: 0.8734 - val_loss: 0.4352 - val_accuracy: 0.8931\n",
            "Epoch 122/300\n",
            "781/781 [==============================] - 29s 37ms/step - loss: 0.4683 - accuracy: 0.8773 - val_loss: 0.4655 - val_accuracy: 0.8823\n",
            "Epoch 123/300\n",
            "781/781 [==============================] - 29s 37ms/step - loss: 0.4694 - accuracy: 0.8753 - val_loss: 0.4241 - val_accuracy: 0.8952\n",
            "Epoch 124/300\n",
            "781/781 [==============================] - 29s 37ms/step - loss: 0.4670 - accuracy: 0.8756 - val_loss: 0.4709 - val_accuracy: 0.8819\n",
            "Epoch 125/300\n",
            "781/781 [==============================] - 29s 37ms/step - loss: 0.4753 - accuracy: 0.8753 - val_loss: 0.4504 - val_accuracy: 0.8867\n",
            "Epoch 126/300\n",
            "781/781 [==============================] - 29s 37ms/step - loss: 0.4624 - accuracy: 0.8790 - val_loss: 0.4488 - val_accuracy: 0.8895\n",
            "Epoch 127/300\n",
            "781/781 [==============================] - 29s 37ms/step - loss: 0.4640 - accuracy: 0.8784 - val_loss: 0.4427 - val_accuracy: 0.8885\n",
            "Epoch 128/300\n",
            "781/781 [==============================] - 28s 36ms/step - loss: 0.4684 - accuracy: 0.8754 - val_loss: 0.4630 - val_accuracy: 0.8857\n",
            "Epoch 129/300\n",
            "781/781 [==============================] - 28s 36ms/step - loss: 0.4599 - accuracy: 0.8782 - val_loss: 0.4450 - val_accuracy: 0.8857\n",
            "Epoch 130/300\n",
            "781/781 [==============================] - 29s 37ms/step - loss: 0.4629 - accuracy: 0.8784 - val_loss: 0.4497 - val_accuracy: 0.8885\n",
            "Epoch 131/300\n",
            "781/781 [==============================] - 29s 37ms/step - loss: 0.4549 - accuracy: 0.8796 - val_loss: 0.4240 - val_accuracy: 0.8957\n",
            "Epoch 132/300\n",
            "781/781 [==============================] - 29s 37ms/step - loss: 0.4681 - accuracy: 0.8755 - val_loss: 0.4391 - val_accuracy: 0.8907\n",
            "Epoch 133/300\n",
            "781/781 [==============================] - 29s 37ms/step - loss: 0.4516 - accuracy: 0.8784 - val_loss: 0.4344 - val_accuracy: 0.8913\n",
            "Epoch 134/300\n",
            "781/781 [==============================] - 28s 36ms/step - loss: 0.4589 - accuracy: 0.8779 - val_loss: 0.4628 - val_accuracy: 0.8855\n",
            "Epoch 135/300\n",
            "781/781 [==============================] - 29s 37ms/step - loss: 0.4580 - accuracy: 0.8790 - val_loss: 0.4770 - val_accuracy: 0.8804\n",
            "Epoch 136/300\n",
            "781/781 [==============================] - 29s 37ms/step - loss: 0.4534 - accuracy: 0.8813 - val_loss: 0.4357 - val_accuracy: 0.8905\n",
            "Epoch 137/300\n",
            "781/781 [==============================] - 29s 37ms/step - loss: 0.4590 - accuracy: 0.8793 - val_loss: 0.4660 - val_accuracy: 0.8824\n",
            "Epoch 138/300\n",
            "781/781 [==============================] - 29s 37ms/step - loss: 0.4491 - accuracy: 0.8804 - val_loss: 0.4424 - val_accuracy: 0.8872\n",
            "Epoch 139/300\n",
            "781/781 [==============================] - 28s 36ms/step - loss: 0.4541 - accuracy: 0.8779 - val_loss: 0.4416 - val_accuracy: 0.8900\n",
            "Epoch 140/300\n",
            "781/781 [==============================] - 29s 37ms/step - loss: 0.4538 - accuracy: 0.8799 - val_loss: 0.4591 - val_accuracy: 0.8839\n",
            "Epoch 141/300\n",
            "781/781 [==============================] - 29s 37ms/step - loss: 0.4498 - accuracy: 0.8796 - val_loss: 0.4585 - val_accuracy: 0.8856\n",
            "Epoch 142/300\n",
            "781/781 [==============================] - 28s 36ms/step - loss: 0.4476 - accuracy: 0.8817 - val_loss: 0.4585 - val_accuracy: 0.8877\n",
            "Epoch 143/300\n",
            "781/781 [==============================] - 29s 37ms/step - loss: 0.4528 - accuracy: 0.8809 - val_loss: 0.4715 - val_accuracy: 0.8852\n",
            "Epoch 144/300\n",
            "781/781 [==============================] - 29s 37ms/step - loss: 0.4555 - accuracy: 0.8782 - val_loss: 0.4435 - val_accuracy: 0.8890\n",
            "Epoch 145/300\n",
            "781/781 [==============================] - 29s 37ms/step - loss: 0.4542 - accuracy: 0.8781 - val_loss: 0.4676 - val_accuracy: 0.8828\n",
            "Epoch 146/300\n",
            "781/781 [==============================] - 29s 37ms/step - loss: 0.4634 - accuracy: 0.8783 - val_loss: 0.4824 - val_accuracy: 0.8782\n",
            "Epoch 147/300\n",
            "781/781 [==============================] - 29s 37ms/step - loss: 0.4501 - accuracy: 0.8797 - val_loss: 0.4743 - val_accuracy: 0.8836\n",
            "Epoch 148/300\n",
            "781/781 [==============================] - 29s 37ms/step - loss: 0.4596 - accuracy: 0.8779 - val_loss: 0.4494 - val_accuracy: 0.8906\n",
            "Epoch 149/300\n",
            "781/781 [==============================] - 29s 37ms/step - loss: 0.4495 - accuracy: 0.8791 - val_loss: 0.4227 - val_accuracy: 0.8952\n",
            "Epoch 150/300\n",
            "781/781 [==============================] - 29s 37ms/step - loss: 0.4535 - accuracy: 0.8771 - val_loss: 0.4643 - val_accuracy: 0.8813\n",
            "Epoch 151/300\n",
            "781/781 [==============================] - 28s 36ms/step - loss: 0.4380 - accuracy: 0.8835 - val_loss: 0.4753 - val_accuracy: 0.8783\n",
            "Epoch 152/300\n",
            "781/781 [==============================] - 29s 37ms/step - loss: 0.4507 - accuracy: 0.8807 - val_loss: 0.4425 - val_accuracy: 0.8888\n",
            "Epoch 153/300\n",
            "781/781 [==============================] - 29s 37ms/step - loss: 0.4480 - accuracy: 0.8799 - val_loss: 0.4463 - val_accuracy: 0.8890\n",
            "Epoch 154/300\n",
            "781/781 [==============================] - 28s 36ms/step - loss: 0.4421 - accuracy: 0.8800 - val_loss: 0.4611 - val_accuracy: 0.8840\n",
            "Epoch 155/300\n",
            "781/781 [==============================] - 28s 36ms/step - loss: 0.4356 - accuracy: 0.8837 - val_loss: 0.4595 - val_accuracy: 0.8844\n",
            "Epoch 156/300\n",
            "781/781 [==============================] - 28s 36ms/step - loss: 0.4374 - accuracy: 0.8803 - val_loss: 0.4414 - val_accuracy: 0.8890\n",
            "Epoch 157/300\n",
            "781/781 [==============================] - 28s 36ms/step - loss: 0.4384 - accuracy: 0.8799 - val_loss: 0.4773 - val_accuracy: 0.8821\n",
            "Epoch 158/300\n",
            "781/781 [==============================] - 29s 37ms/step - loss: 0.4486 - accuracy: 0.8800 - val_loss: 0.4113 - val_accuracy: 0.8946\n",
            "Epoch 159/300\n",
            "781/781 [==============================] - 28s 36ms/step - loss: 0.4534 - accuracy: 0.8752 - val_loss: 0.4538 - val_accuracy: 0.8847\n",
            "Epoch 160/300\n",
            "781/781 [==============================] - 28s 36ms/step - loss: 0.4460 - accuracy: 0.8800 - val_loss: 0.4395 - val_accuracy: 0.8905\n",
            "Epoch 161/300\n",
            "781/781 [==============================] - 29s 37ms/step - loss: 0.4382 - accuracy: 0.8835 - val_loss: 0.4534 - val_accuracy: 0.8841\n",
            "Epoch 162/300\n",
            "781/781 [==============================] - 28s 36ms/step - loss: 0.4505 - accuracy: 0.8783 - val_loss: 0.4232 - val_accuracy: 0.8942\n",
            "Epoch 163/300\n",
            "781/781 [==============================] - 29s 37ms/step - loss: 0.4388 - accuracy: 0.8815 - val_loss: 0.4327 - val_accuracy: 0.8924\n",
            "Epoch 164/300\n",
            "781/781 [==============================] - 28s 36ms/step - loss: 0.4460 - accuracy: 0.8820 - val_loss: 0.4316 - val_accuracy: 0.8931\n",
            "Epoch 165/300\n",
            "781/781 [==============================] - 29s 37ms/step - loss: 0.4435 - accuracy: 0.8802 - val_loss: 0.4394 - val_accuracy: 0.8899\n",
            "Epoch 166/300\n",
            "781/781 [==============================] - 29s 37ms/step - loss: 0.4375 - accuracy: 0.8823 - val_loss: 0.4714 - val_accuracy: 0.8816\n",
            "Epoch 167/300\n",
            "781/781 [==============================] - 29s 37ms/step - loss: 0.4381 - accuracy: 0.8823 - val_loss: 0.4478 - val_accuracy: 0.8857\n",
            "Epoch 168/300\n",
            "781/781 [==============================] - 29s 36ms/step - loss: 0.4387 - accuracy: 0.8833 - val_loss: 0.4384 - val_accuracy: 0.8891\n",
            "Epoch 169/300\n",
            "781/781 [==============================] - 29s 37ms/step - loss: 0.4355 - accuracy: 0.8809 - val_loss: 0.4160 - val_accuracy: 0.8967\n",
            "Epoch 170/300\n",
            "781/781 [==============================] - 29s 37ms/step - loss: 0.4433 - accuracy: 0.8805 - val_loss: 0.4361 - val_accuracy: 0.8903\n",
            "Epoch 171/300\n",
            "781/781 [==============================] - 29s 37ms/step - loss: 0.4469 - accuracy: 0.8790 - val_loss: 0.4498 - val_accuracy: 0.8856\n",
            "Epoch 172/300\n",
            "781/781 [==============================] - 29s 37ms/step - loss: 0.4450 - accuracy: 0.8815 - val_loss: 0.4277 - val_accuracy: 0.8904\n",
            "Epoch 173/300\n",
            "781/781 [==============================] - 29s 37ms/step - loss: 0.4419 - accuracy: 0.8800 - val_loss: 0.4598 - val_accuracy: 0.8844\n",
            "Epoch 174/300\n",
            "781/781 [==============================] - 28s 36ms/step - loss: 0.4329 - accuracy: 0.8812 - val_loss: 0.4583 - val_accuracy: 0.8836\n",
            "Epoch 175/300\n",
            "781/781 [==============================] - 29s 37ms/step - loss: 0.4370 - accuracy: 0.8844 - val_loss: 0.4421 - val_accuracy: 0.8892\n",
            "Epoch 176/300\n",
            "781/781 [==============================] - 29s 36ms/step - loss: 0.4390 - accuracy: 0.8796 - val_loss: 0.4518 - val_accuracy: 0.8870\n",
            "Epoch 177/300\n",
            "781/781 [==============================] - 28s 36ms/step - loss: 0.4323 - accuracy: 0.8843 - val_loss: 0.4840 - val_accuracy: 0.8784\n",
            "Epoch 178/300\n",
            "781/781 [==============================] - 29s 37ms/step - loss: 0.4433 - accuracy: 0.8811 - val_loss: 0.4542 - val_accuracy: 0.8854\n",
            "Epoch 179/300\n",
            "781/781 [==============================] - 29s 37ms/step - loss: 0.4295 - accuracy: 0.8861 - val_loss: 0.4553 - val_accuracy: 0.8836\n",
            "Epoch 180/300\n",
            "781/781 [==============================] - 29s 37ms/step - loss: 0.4409 - accuracy: 0.8801 - val_loss: 0.4370 - val_accuracy: 0.8872\n",
            "Epoch 181/300\n",
            "781/781 [==============================] - 29s 37ms/step - loss: 0.4341 - accuracy: 0.8834 - val_loss: 0.4457 - val_accuracy: 0.8864\n",
            "Epoch 182/300\n",
            "781/781 [==============================] - 29s 37ms/step - loss: 0.4457 - accuracy: 0.8796 - val_loss: 0.4516 - val_accuracy: 0.8858\n",
            "Epoch 183/300\n",
            "781/781 [==============================] - 29s 37ms/step - loss: 0.4340 - accuracy: 0.8844 - val_loss: 0.4368 - val_accuracy: 0.8896\n",
            "Epoch 184/300\n",
            "781/781 [==============================] - 29s 37ms/step - loss: 0.4423 - accuracy: 0.8791 - val_loss: 0.4455 - val_accuracy: 0.8867\n",
            "Epoch 185/300\n",
            "781/781 [==============================] - 29s 37ms/step - loss: 0.4371 - accuracy: 0.8816 - val_loss: 0.4326 - val_accuracy: 0.8906\n",
            "Epoch 186/300\n",
            "781/781 [==============================] - 29s 37ms/step - loss: 0.4358 - accuracy: 0.8821 - val_loss: 0.4382 - val_accuracy: 0.8902\n",
            "Epoch 187/300\n",
            "781/781 [==============================] - 29s 37ms/step - loss: 0.4391 - accuracy: 0.8806 - val_loss: 0.4492 - val_accuracy: 0.8851\n",
            "Epoch 188/300\n",
            "781/781 [==============================] - 28s 36ms/step - loss: 0.4445 - accuracy: 0.8799 - val_loss: 0.4678 - val_accuracy: 0.8807\n",
            "Epoch 189/300\n",
            "781/781 [==============================] - 29s 37ms/step - loss: 0.4409 - accuracy: 0.8815 - val_loss: 0.4760 - val_accuracy: 0.8809\n",
            "Epoch 190/300\n",
            "781/781 [==============================] - 29s 37ms/step - loss: 0.4436 - accuracy: 0.8800 - val_loss: 0.4181 - val_accuracy: 0.8948\n",
            "Epoch 191/300\n",
            "781/781 [==============================] - 29s 37ms/step - loss: 0.4352 - accuracy: 0.8831 - val_loss: 0.4493 - val_accuracy: 0.8866\n",
            "Epoch 192/300\n",
            "781/781 [==============================] - 29s 37ms/step - loss: 0.4345 - accuracy: 0.8820 - val_loss: 0.4385 - val_accuracy: 0.8874\n",
            "Epoch 193/300\n",
            "781/781 [==============================] - 29s 37ms/step - loss: 0.4444 - accuracy: 0.8796 - val_loss: 0.4482 - val_accuracy: 0.8866\n",
            "Epoch 194/300\n",
            "781/781 [==============================] - 28s 36ms/step - loss: 0.4325 - accuracy: 0.8843 - val_loss: 0.4824 - val_accuracy: 0.8777\n",
            "Epoch 195/300\n",
            "781/781 [==============================] - 29s 37ms/step - loss: 0.4338 - accuracy: 0.8828 - val_loss: 0.4379 - val_accuracy: 0.8876\n",
            "Epoch 196/300\n",
            "781/781 [==============================] - 29s 37ms/step - loss: 0.4318 - accuracy: 0.8855 - val_loss: 0.4614 - val_accuracy: 0.8844\n",
            "Epoch 197/300\n",
            "781/781 [==============================] - 29s 37ms/step - loss: 0.4400 - accuracy: 0.8806 - val_loss: 0.4344 - val_accuracy: 0.8914\n",
            "Epoch 198/300\n",
            "781/781 [==============================] - 29s 37ms/step - loss: 0.4396 - accuracy: 0.8791 - val_loss: 0.4616 - val_accuracy: 0.8822\n",
            "Epoch 199/300\n",
            "781/781 [==============================] - 29s 37ms/step - loss: 0.4304 - accuracy: 0.8823 - val_loss: 0.4173 - val_accuracy: 0.8940\n",
            "Epoch 200/300\n",
            "781/781 [==============================] - 29s 37ms/step - loss: 0.4366 - accuracy: 0.8815 - val_loss: 0.4482 - val_accuracy: 0.8872\n",
            "Epoch 201/300\n",
            "781/781 [==============================] - 29s 37ms/step - loss: 0.4285 - accuracy: 0.8840 - val_loss: 0.4248 - val_accuracy: 0.8934\n",
            "Epoch 202/300\n",
            "781/781 [==============================] - 29s 37ms/step - loss: 0.4243 - accuracy: 0.8872 - val_loss: 0.4698 - val_accuracy: 0.8794\n",
            "Epoch 203/300\n",
            "781/781 [==============================] - 29s 37ms/step - loss: 0.4429 - accuracy: 0.8802 - val_loss: 0.4122 - val_accuracy: 0.8932\n",
            "Epoch 204/300\n",
            "781/781 [==============================] - 29s 37ms/step - loss: 0.4290 - accuracy: 0.8831 - val_loss: 0.4396 - val_accuracy: 0.8854\n",
            "Epoch 205/300\n",
            "781/781 [==============================] - 29s 37ms/step - loss: 0.4320 - accuracy: 0.8853 - val_loss: 0.4609 - val_accuracy: 0.8815\n",
            "Epoch 206/300\n",
            "781/781 [==============================] - 29s 37ms/step - loss: 0.4347 - accuracy: 0.8838 - val_loss: 0.4394 - val_accuracy: 0.8848\n",
            "Epoch 207/300\n",
            "781/781 [==============================] - 29s 37ms/step - loss: 0.4355 - accuracy: 0.8820 - val_loss: 0.4328 - val_accuracy: 0.8859\n",
            "Epoch 208/300\n",
            "781/781 [==============================] - 29s 37ms/step - loss: 0.4243 - accuracy: 0.8846 - val_loss: 0.4404 - val_accuracy: 0.8870\n",
            "Epoch 209/300\n",
            "781/781 [==============================] - 29s 37ms/step - loss: 0.4326 - accuracy: 0.8818 - val_loss: 0.4369 - val_accuracy: 0.8893\n",
            "Epoch 210/300\n",
            "781/781 [==============================] - 29s 37ms/step - loss: 0.4295 - accuracy: 0.8837 - val_loss: 0.3977 - val_accuracy: 0.8980\n",
            "Epoch 211/300\n",
            "781/781 [==============================] - 29s 37ms/step - loss: 0.4260 - accuracy: 0.8846 - val_loss: 0.4507 - val_accuracy: 0.8855\n",
            "Epoch 212/300\n",
            "781/781 [==============================] - 29s 37ms/step - loss: 0.4364 - accuracy: 0.8812 - val_loss: 0.4554 - val_accuracy: 0.8834\n",
            "Epoch 213/300\n",
            "781/781 [==============================] - 29s 37ms/step - loss: 0.4318 - accuracy: 0.8813 - val_loss: 0.4730 - val_accuracy: 0.8785\n",
            "Epoch 214/300\n",
            "781/781 [==============================] - 29s 37ms/step - loss: 0.4356 - accuracy: 0.8797 - val_loss: 0.4398 - val_accuracy: 0.8921\n",
            "Epoch 215/300\n",
            "781/781 [==============================] - 29s 37ms/step - loss: 0.4419 - accuracy: 0.8810 - val_loss: 0.4357 - val_accuracy: 0.8896\n",
            "Epoch 216/300\n",
            "781/781 [==============================] - 29s 37ms/step - loss: 0.4287 - accuracy: 0.8860 - val_loss: 0.4519 - val_accuracy: 0.8898\n",
            "Epoch 217/300\n",
            "781/781 [==============================] - 29s 37ms/step - loss: 0.4304 - accuracy: 0.8830 - val_loss: 0.4444 - val_accuracy: 0.8883\n",
            "Epoch 218/300\n",
            "781/781 [==============================] - 29s 37ms/step - loss: 0.4306 - accuracy: 0.8835 - val_loss: 0.4257 - val_accuracy: 0.8900\n",
            "Epoch 219/300\n",
            "781/781 [==============================] - 29s 37ms/step - loss: 0.4221 - accuracy: 0.8871 - val_loss: 0.4500 - val_accuracy: 0.8855\n",
            "Epoch 220/300\n",
            "781/781 [==============================] - 29s 37ms/step - loss: 0.4300 - accuracy: 0.8835 - val_loss: 0.4437 - val_accuracy: 0.8866\n",
            "Epoch 221/300\n",
            "781/781 [==============================] - 29s 37ms/step - loss: 0.4260 - accuracy: 0.8852 - val_loss: 0.4299 - val_accuracy: 0.8926\n",
            "Epoch 222/300\n",
            "781/781 [==============================] - 29s 37ms/step - loss: 0.4254 - accuracy: 0.8854 - val_loss: 0.4516 - val_accuracy: 0.8835\n",
            "Epoch 223/300\n",
            "781/781 [==============================] - 29s 38ms/step - loss: 0.4232 - accuracy: 0.8851 - val_loss: 0.4376 - val_accuracy: 0.8874\n",
            "Epoch 224/300\n",
            "781/781 [==============================] - 29s 37ms/step - loss: 0.4266 - accuracy: 0.8844 - val_loss: 0.4432 - val_accuracy: 0.8860\n",
            "Epoch 225/300\n",
            "781/781 [==============================] - 29s 37ms/step - loss: 0.4264 - accuracy: 0.8823 - val_loss: 0.4130 - val_accuracy: 0.8936\n",
            "Epoch 226/300\n",
            "781/781 [==============================] - 29s 38ms/step - loss: 0.4259 - accuracy: 0.8853 - val_loss: 0.4276 - val_accuracy: 0.8910\n",
            "Epoch 227/300\n",
            "781/781 [==============================] - 29s 38ms/step - loss: 0.4279 - accuracy: 0.8840 - val_loss: 0.4444 - val_accuracy: 0.8862\n",
            "Epoch 228/300\n",
            "781/781 [==============================] - 30s 39ms/step - loss: 0.4267 - accuracy: 0.8848 - val_loss: 0.4294 - val_accuracy: 0.8896\n",
            "Epoch 229/300\n",
            "781/781 [==============================] - 31s 39ms/step - loss: 0.4244 - accuracy: 0.8844 - val_loss: 0.4457 - val_accuracy: 0.8852\n",
            "Epoch 230/300\n",
            "781/781 [==============================] - 29s 38ms/step - loss: 0.4264 - accuracy: 0.8841 - val_loss: 0.4314 - val_accuracy: 0.8889\n",
            "Epoch 231/300\n",
            "781/781 [==============================] - 29s 38ms/step - loss: 0.4275 - accuracy: 0.8845 - val_loss: 0.4398 - val_accuracy: 0.8907\n",
            "Epoch 232/300\n",
            "781/781 [==============================] - 29s 37ms/step - loss: 0.4296 - accuracy: 0.8824 - val_loss: 0.4534 - val_accuracy: 0.8853\n",
            "Epoch 233/300\n",
            "781/781 [==============================] - 30s 38ms/step - loss: 0.4235 - accuracy: 0.8859 - val_loss: 0.4574 - val_accuracy: 0.8857\n",
            "Epoch 234/300\n",
            "781/781 [==============================] - 30s 38ms/step - loss: 0.4237 - accuracy: 0.8855 - val_loss: 0.4404 - val_accuracy: 0.8899\n",
            "Epoch 235/300\n",
            "781/781 [==============================] - 30s 38ms/step - loss: 0.4239 - accuracy: 0.8866 - val_loss: 0.4507 - val_accuracy: 0.8861\n",
            "Epoch 236/300\n",
            "781/781 [==============================] - 30s 38ms/step - loss: 0.4291 - accuracy: 0.8839 - val_loss: 0.4435 - val_accuracy: 0.8866\n",
            "Epoch 237/300\n",
            "781/781 [==============================] - 30s 38ms/step - loss: 0.4161 - accuracy: 0.8860 - val_loss: 0.4344 - val_accuracy: 0.8895\n",
            "Epoch 238/300\n",
            "781/781 [==============================] - 30s 38ms/step - loss: 0.4293 - accuracy: 0.8840 - val_loss: 0.3960 - val_accuracy: 0.8984\n",
            "Epoch 239/300\n",
            "781/781 [==============================] - 29s 38ms/step - loss: 0.4170 - accuracy: 0.8876 - val_loss: 0.4313 - val_accuracy: 0.8932\n",
            "Epoch 240/300\n",
            "781/781 [==============================] - 30s 38ms/step - loss: 0.4302 - accuracy: 0.8832 - val_loss: 0.4417 - val_accuracy: 0.8861\n",
            "Epoch 241/300\n",
            "781/781 [==============================] - 29s 37ms/step - loss: 0.4237 - accuracy: 0.8853 - val_loss: 0.4073 - val_accuracy: 0.8953\n",
            "Epoch 242/300\n",
            "781/781 [==============================] - 30s 38ms/step - loss: 0.4303 - accuracy: 0.8830 - val_loss: 0.4576 - val_accuracy: 0.8830\n",
            "Epoch 243/300\n",
            "781/781 [==============================] - 29s 37ms/step - loss: 0.4227 - accuracy: 0.8861 - val_loss: 0.4141 - val_accuracy: 0.8942\n",
            "Epoch 244/300\n",
            "781/781 [==============================] - 30s 38ms/step - loss: 0.4241 - accuracy: 0.8834 - val_loss: 0.4593 - val_accuracy: 0.8848\n",
            "Epoch 245/300\n",
            "781/781 [==============================] - 29s 38ms/step - loss: 0.4209 - accuracy: 0.8865 - val_loss: 0.4297 - val_accuracy: 0.8895\n",
            "Epoch 246/300\n",
            "781/781 [==============================] - 29s 38ms/step - loss: 0.4136 - accuracy: 0.8886 - val_loss: 0.4291 - val_accuracy: 0.8933\n",
            "Epoch 247/300\n",
            "781/781 [==============================] - 29s 37ms/step - loss: 0.4202 - accuracy: 0.8860 - val_loss: 0.4322 - val_accuracy: 0.8898\n",
            "Epoch 248/300\n",
            "781/781 [==============================] - 29s 37ms/step - loss: 0.4164 - accuracy: 0.8868 - val_loss: 0.4489 - val_accuracy: 0.8860\n",
            "Epoch 249/300\n",
            "781/781 [==============================] - 29s 37ms/step - loss: 0.4259 - accuracy: 0.8823 - val_loss: 0.4280 - val_accuracy: 0.8936\n",
            "Epoch 250/300\n",
            "781/781 [==============================] - 30s 38ms/step - loss: 0.4267 - accuracy: 0.8858 - val_loss: 0.4347 - val_accuracy: 0.8911\n",
            "Epoch 251/300\n",
            "781/781 [==============================] - 29s 37ms/step - loss: 0.4276 - accuracy: 0.8820 - val_loss: 0.4357 - val_accuracy: 0.8879\n",
            "Epoch 252/300\n",
            "781/781 [==============================] - 29s 37ms/step - loss: 0.4203 - accuracy: 0.8873 - val_loss: 0.4121 - val_accuracy: 0.8970\n",
            "Epoch 253/300\n",
            "781/781 [==============================] - 29s 37ms/step - loss: 0.4222 - accuracy: 0.8870 - val_loss: 0.4171 - val_accuracy: 0.8935\n",
            "Epoch 254/300\n",
            "781/781 [==============================] - 29s 38ms/step - loss: 0.4231 - accuracy: 0.8852 - val_loss: 0.4512 - val_accuracy: 0.8858\n",
            "Epoch 255/300\n",
            "781/781 [==============================] - 29s 38ms/step - loss: 0.4188 - accuracy: 0.8868 - val_loss: 0.4372 - val_accuracy: 0.8908\n",
            "Epoch 256/300\n",
            "781/781 [==============================] - 30s 38ms/step - loss: 0.4141 - accuracy: 0.8881 - val_loss: 0.4212 - val_accuracy: 0.8924\n",
            "Epoch 257/300\n",
            "781/781 [==============================] - 30s 38ms/step - loss: 0.4321 - accuracy: 0.8844 - val_loss: 0.4382 - val_accuracy: 0.8862\n",
            "Epoch 258/300\n",
            "781/781 [==============================] - 30s 38ms/step - loss: 0.4197 - accuracy: 0.8886 - val_loss: 0.4762 - val_accuracy: 0.8822\n",
            "Epoch 259/300\n",
            "781/781 [==============================] - 29s 38ms/step - loss: 0.4122 - accuracy: 0.8880 - val_loss: 0.4558 - val_accuracy: 0.8834\n",
            "Epoch 260/300\n",
            "781/781 [==============================] - 30s 38ms/step - loss: 0.4244 - accuracy: 0.8849 - val_loss: 0.4301 - val_accuracy: 0.8925\n",
            "Epoch 261/300\n",
            "781/781 [==============================] - 30s 38ms/step - loss: 0.4196 - accuracy: 0.8871 - val_loss: 0.4224 - val_accuracy: 0.8937\n",
            "Epoch 262/300\n",
            "781/781 [==============================] - 30s 39ms/step - loss: 0.4223 - accuracy: 0.8871 - val_loss: 0.4242 - val_accuracy: 0.8906\n",
            "Epoch 263/300\n",
            "781/781 [==============================] - 31s 39ms/step - loss: 0.4226 - accuracy: 0.8852 - val_loss: 0.4066 - val_accuracy: 0.8966\n",
            "Epoch 264/300\n",
            "781/781 [==============================] - 30s 39ms/step - loss: 0.4186 - accuracy: 0.8885 - val_loss: 0.4312 - val_accuracy: 0.8912\n",
            "Epoch 265/300\n",
            "781/781 [==============================] - 30s 38ms/step - loss: 0.4255 - accuracy: 0.8847 - val_loss: 0.4490 - val_accuracy: 0.8828\n",
            "Epoch 266/300\n",
            "781/781 [==============================] - 29s 38ms/step - loss: 0.4158 - accuracy: 0.8871 - val_loss: 0.4204 - val_accuracy: 0.8937\n",
            "Epoch 267/300\n",
            "781/781 [==============================] - 29s 37ms/step - loss: 0.4143 - accuracy: 0.8862 - val_loss: 0.4249 - val_accuracy: 0.8922\n",
            "Epoch 268/300\n",
            "781/781 [==============================] - 29s 37ms/step - loss: 0.4166 - accuracy: 0.8886 - val_loss: 0.4447 - val_accuracy: 0.8861\n",
            "Epoch 269/300\n",
            "781/781 [==============================] - 29s 38ms/step - loss: 0.4088 - accuracy: 0.8881 - val_loss: 0.4115 - val_accuracy: 0.8985\n",
            "Epoch 270/300\n",
            "781/781 [==============================] - 29s 38ms/step - loss: 0.4220 - accuracy: 0.8862 - val_loss: 0.4013 - val_accuracy: 0.8976\n",
            "Epoch 271/300\n",
            "781/781 [==============================] - 29s 37ms/step - loss: 0.4200 - accuracy: 0.8857 - val_loss: 0.4219 - val_accuracy: 0.8959\n",
            "Epoch 272/300\n",
            "781/781 [==============================] - 29s 38ms/step - loss: 0.4192 - accuracy: 0.8868 - val_loss: 0.4472 - val_accuracy: 0.8892\n",
            "Epoch 273/300\n",
            "781/781 [==============================] - 29s 38ms/step - loss: 0.4110 - accuracy: 0.8881 - val_loss: 0.4040 - val_accuracy: 0.8986\n",
            "Epoch 274/300\n",
            "781/781 [==============================] - 30s 38ms/step - loss: 0.4124 - accuracy: 0.8886 - val_loss: 0.4169 - val_accuracy: 0.8958\n",
            "Epoch 275/300\n",
            "781/781 [==============================] - 30s 38ms/step - loss: 0.4088 - accuracy: 0.8890 - val_loss: 0.4392 - val_accuracy: 0.8867\n",
            "Epoch 276/300\n",
            "781/781 [==============================] - 29s 37ms/step - loss: 0.4168 - accuracy: 0.8876 - val_loss: 0.4076 - val_accuracy: 0.8960\n",
            "Epoch 277/300\n",
            "781/781 [==============================] - 29s 37ms/step - loss: 0.4270 - accuracy: 0.8822 - val_loss: 0.4433 - val_accuracy: 0.8912\n",
            "Epoch 278/300\n",
            "781/781 [==============================] - 29s 38ms/step - loss: 0.4187 - accuracy: 0.8887 - val_loss: 0.4530 - val_accuracy: 0.8863\n",
            "Epoch 279/300\n",
            "781/781 [==============================] - 29s 37ms/step - loss: 0.4220 - accuracy: 0.8851 - val_loss: 0.4571 - val_accuracy: 0.8867\n",
            "Epoch 280/300\n",
            "781/781 [==============================] - 29s 38ms/step - loss: 0.4180 - accuracy: 0.8858 - val_loss: 0.4189 - val_accuracy: 0.8940\n",
            "Epoch 281/300\n",
            "781/781 [==============================] - 29s 38ms/step - loss: 0.4202 - accuracy: 0.8855 - val_loss: 0.4225 - val_accuracy: 0.8917\n",
            "Epoch 282/300\n",
            "781/781 [==============================] - 29s 38ms/step - loss: 0.4196 - accuracy: 0.8862 - val_loss: 0.4271 - val_accuracy: 0.8919\n",
            "Epoch 283/300\n",
            "781/781 [==============================] - 29s 37ms/step - loss: 0.4152 - accuracy: 0.8875 - val_loss: 0.4274 - val_accuracy: 0.8947\n",
            "Epoch 284/300\n",
            "781/781 [==============================] - 29s 37ms/step - loss: 0.4192 - accuracy: 0.8863 - val_loss: 0.4124 - val_accuracy: 0.8960\n",
            "Epoch 285/300\n",
            "781/781 [==============================] - 29s 38ms/step - loss: 0.4129 - accuracy: 0.8877 - val_loss: 0.4240 - val_accuracy: 0.8961\n",
            "Epoch 286/300\n",
            "781/781 [==============================] - 30s 38ms/step - loss: 0.4040 - accuracy: 0.8909 - val_loss: 0.3983 - val_accuracy: 0.8998\n",
            "Epoch 287/300\n",
            "781/781 [==============================] - 29s 37ms/step - loss: 0.4185 - accuracy: 0.8862 - val_loss: 0.4527 - val_accuracy: 0.8840\n",
            "Epoch 288/300\n",
            "781/781 [==============================] - 29s 38ms/step - loss: 0.4145 - accuracy: 0.8868 - val_loss: 0.4362 - val_accuracy: 0.8891\n",
            "Epoch 289/300\n",
            "781/781 [==============================] - 29s 38ms/step - loss: 0.4094 - accuracy: 0.8901 - val_loss: 0.4199 - val_accuracy: 0.8932\n",
            "Epoch 290/300\n",
            "781/781 [==============================] - 30s 38ms/step - loss: 0.4197 - accuracy: 0.8862 - val_loss: 0.4170 - val_accuracy: 0.8952\n",
            "Epoch 291/300\n",
            "781/781 [==============================] - 30s 38ms/step - loss: 0.4081 - accuracy: 0.8913 - val_loss: 0.4129 - val_accuracy: 0.8979\n",
            "Epoch 292/300\n",
            "781/781 [==============================] - 30s 38ms/step - loss: 0.4134 - accuracy: 0.8879 - val_loss: 0.4232 - val_accuracy: 0.8945\n",
            "Epoch 293/300\n",
            "781/781 [==============================] - 29s 38ms/step - loss: 0.4132 - accuracy: 0.8888 - val_loss: 0.4210 - val_accuracy: 0.8944\n",
            "Epoch 294/300\n",
            "781/781 [==============================] - 29s 38ms/step - loss: 0.4033 - accuracy: 0.8922 - val_loss: 0.4249 - val_accuracy: 0.8923\n",
            "Epoch 295/300\n",
            "781/781 [==============================] - 29s 38ms/step - loss: 0.4089 - accuracy: 0.8896 - val_loss: 0.4275 - val_accuracy: 0.8906\n",
            "Epoch 296/300\n",
            "781/781 [==============================] - 30s 38ms/step - loss: 0.4132 - accuracy: 0.8899 - val_loss: 0.4211 - val_accuracy: 0.8934\n",
            "Epoch 297/300\n",
            "781/781 [==============================] - 30s 38ms/step - loss: 0.4134 - accuracy: 0.8874 - val_loss: 0.4043 - val_accuracy: 0.8982\n",
            "Epoch 298/300\n",
            "781/781 [==============================] - 29s 38ms/step - loss: 0.4112 - accuracy: 0.8895 - val_loss: 0.3954 - val_accuracy: 0.9013\n",
            "Epoch 299/300\n",
            "781/781 [==============================] - 29s 38ms/step - loss: 0.4244 - accuracy: 0.8867 - val_loss: 0.4380 - val_accuracy: 0.8878\n",
            "Epoch 300/300\n",
            "781/781 [==============================] - 30s 38ms/step - loss: 0.4174 - accuracy: 0.8885 - val_loss: 0.3913 - val_accuracy: 0.9006\n"
          ],
          "name": "stdout"
        }
      ]
    },
    {
      "cell_type": "code",
      "metadata": {
        "colab": {
          "base_uri": "https://localhost:8080/"
        },
        "id": "QeautW_PrjV-",
        "outputId": "5570eab4-45de-45a4-da16-7a0b03891e42"
      },
      "source": [
        " #testing\n",
        "scores = model.evaluate(x_test, y_test, batch_size=128, verbose=1)\n",
        "print('\\nTest result: %.3f loss: %.3f' % (scores[1]*100,scores[0]))"
      ],
      "execution_count": null,
      "outputs": [
        {
          "output_type": "stream",
          "text": [
            "79/79 [==============================] - 0s 6ms/step - loss: 0.3913 - accuracy: 0.9006\n",
            "\n",
            "Test result: 90.060 loss: 0.391\n"
          ],
          "name": "stdout"
        }
      ]
    },
    {
      "cell_type": "code",
      "metadata": {
        "colab": {
          "base_uri": "https://localhost:8080/",
          "height": 342
        },
        "id": "sgmA5dPgwjnH",
        "outputId": "8f0466b4-7e3f-41bd-a3d3-a002405f33b0"
      },
      "source": [
        "from matplotlib import pyplot\n",
        "\n",
        "model.load_weights('model.h5')\n",
        " \n",
        "labels =  ['airplane','automobile','bird','cat','deer','dog','frog','horse','ship','truck']\n",
        " \n",
        "indices = np.argmax(model.predict(x_test[:26]),1)\n",
        "print([labels[x] for x in indices])\n",
        "imshow(x_test[2])"
      ],
      "execution_count": null,
      "outputs": [
        {
          "output_type": "stream",
          "text": [
            "Clipping input data to the valid range for imshow with RGB data ([0..1] for floats or [0..255] for integers).\n"
          ],
          "name": "stderr"
        },
        {
          "output_type": "stream",
          "text": [
            "['cat', 'ship', 'ship', 'ship', 'frog', 'frog', 'automobile', 'frog', 'cat', 'automobile', 'airplane', 'truck', 'dog', 'horse', 'truck', 'ship', 'dog', 'horse', 'ship', 'frog', 'horse', 'airplane', 'deer', 'truck', 'dog', 'bird']\n"
          ],
          "name": "stdout"
        },
        {
          "output_type": "execute_result",
          "data": {
            "text/plain": [
              "<matplotlib.image.AxesImage at 0x7f8817431250>"
            ]
          },
          "metadata": {
            "tags": []
          },
          "execution_count": 90
        },
        {
          "output_type": "display_data",
          "data": {
            "image/png": "[encoded data removed]",
            "text/plain": [
              "<Figure size 432x288 with 1 Axes>"
            ]
          },
          "metadata": {
            "tags": []
          }
        }
      ]
    },
    {
      "cell_type": "code",
      "metadata": {
        "id": "uZZ4of8yRddg"
      },
      "source": [
        "indices = np.argmax(model.predict(x_test[0:1]),1)"
      ],
      "execution_count": null,
      "outputs": []
    },
    {
      "cell_type": "code",
      "metadata": {
        "colab": {
          "background_save": true,
          "base_uri": "https://localhost:8080/"
        },
        "id": "BAsPIwNptH19",
        "outputId": "176da450-0194-4b35-9310-7135a9259c4d"
      },
      "source": [
        "labels =  ['airplane','automobile','bird','cat','deer','dog','frog','horse','ship','truck']\n",
        "print([labels[x] for x in indices])"
      ],
      "execution_count": null,
      "outputs": [
        {
          "output_type": "stream",
          "text": [
            "Clipping input data to the valid range for imshow with RGB data ([0..1] for floats or [0..255] for integers).\n"
          ],
          "name": "stderr"
        },
        {
          "output_type": "stream",
          "text": [
            "['airplane']\n"
          ],
          "name": "stdout"
        },
        {
          "output_type": "execute_result",
          "data": {
            "text/plain": [
              "<matplotlib.image.AxesImage at 0x7fd44c106250>"
            ]
          },
          "metadata": {
            "tags": []
          },
          "execution_count": 0
        },
        {
          "output_type": "display_data",
          "data": {
            "image/png": "[encoded data removed]",
            "text/plain": [
              "<Figure size 432x288 with 1 Axes>"
            ]
          },
          "metadata": {
            "tags": []
          }
        }
      ]
    },
    {
      "cell_type": "code",
      "metadata": {
        "id": "wIQohKDavAq8"
      },
      "source": [
        ""
      ],
      "execution_count": null,
      "outputs": []
    }
  ]
}